{
 "cells": [
  {
   "cell_type": "markdown",
   "id": "784ac1e4",
   "metadata": {},
   "source": [
    "### Data Mining and Machine Learning Project\n",
    "Abhishek Minz\n",
    "\n",
    "MSC Data Analytics\n",
    "\n",
    "x21173184@student.ncirl.ie"
   ]
  },
  {
   "cell_type": "code",
   "execution_count": 1,
   "id": "8f80501c",
   "metadata": {},
   "outputs": [
    {
     "name": "stderr",
     "output_type": "stream",
     "text": [
      "Loading required package: ggplot2\n",
      "\n",
      "Loading required package: lattice\n",
      "\n",
      "── \u001b[1mAttaching packages\u001b[22m ─────────────────────────────────────── tidyverse 1.3.2 ──\n",
      "\u001b[32m✔\u001b[39m \u001b[34mtibble \u001b[39m 3.1.8      \u001b[32m✔\u001b[39m \u001b[34mdplyr  \u001b[39m 1.0.10\n",
      "\u001b[32m✔\u001b[39m \u001b[34mtidyr  \u001b[39m 1.2.1      \u001b[32m✔\u001b[39m \u001b[34mstringr\u001b[39m 1.5.0 \n",
      "\u001b[32m✔\u001b[39m \u001b[34mreadr  \u001b[39m 2.1.3      \u001b[32m✔\u001b[39m \u001b[34mforcats\u001b[39m 0.5.2 \n",
      "\u001b[32m✔\u001b[39m \u001b[34mpurrr  \u001b[39m 0.3.4      \n",
      "── \u001b[1mConflicts\u001b[22m ────────────────────────────────────────── tidyverse_conflicts() ──\n",
      "\u001b[31m✖\u001b[39m \u001b[34mdplyr\u001b[39m::\u001b[32mfilter()\u001b[39m masks \u001b[34mstats\u001b[39m::filter()\n",
      "\u001b[31m✖\u001b[39m \u001b[34mdplyr\u001b[39m::\u001b[32mlag()\u001b[39m    masks \u001b[34mstats\u001b[39m::lag()\n",
      "\u001b[31m✖\u001b[39m \u001b[34mpurrr\u001b[39m::\u001b[32mlift()\u001b[39m   masks \u001b[34mcaret\u001b[39m::lift()\n"
     ]
    }
   ],
   "source": [
    "library(caret) #For downsampling\n",
    "library(caTools) #To split our data\n",
    "library(\"readxl\") #To read xls file\n",
    "library(fastDummies) #For dummies\n",
    "library(tidyverse)\n",
    "library(gmodels)"
   ]
  },
  {
   "cell_type": "code",
   "execution_count": 2,
   "id": "84f4c790",
   "metadata": {},
   "outputs": [],
   "source": [
    "data<- read_excel('Credit Card Defaulters.xls', skip=1) #Skipping the first row since variable names are in second row"
   ]
  },
  {
   "cell_type": "code",
   "execution_count": 3,
   "id": "409aebd3",
   "metadata": {},
   "outputs": [
    {
     "name": "stdout",
     "output_type": "stream",
     "text": [
      "tibble [30,000 × 25] (S3: tbl_df/tbl/data.frame)\n",
      " $ ID                        : num [1:30000] 1 2 3 4 5 6 7 8 9 10 ...\n",
      " $ LIMIT_BAL                 : num [1:30000] 20000 120000 90000 50000 50000 50000 500000 100000 140000 20000 ...\n",
      " $ SEX                       : num [1:30000] 2 2 2 2 1 1 1 2 2 1 ...\n",
      " $ EDUCATION                 : num [1:30000] 2 2 2 2 2 1 1 2 3 3 ...\n",
      " $ MARRIAGE                  : num [1:30000] 1 2 2 1 1 2 2 2 1 2 ...\n",
      " $ AGE                       : num [1:30000] 24 26 34 37 57 37 29 23 28 35 ...\n",
      " $ PAY_0                     : num [1:30000] 2 -1 0 0 -1 0 0 0 0 -2 ...\n",
      " $ PAY_2                     : num [1:30000] 2 2 0 0 0 0 0 -1 0 -2 ...\n",
      " $ PAY_3                     : num [1:30000] -1 0 0 0 -1 0 0 -1 2 -2 ...\n",
      " $ PAY_4                     : num [1:30000] -1 0 0 0 0 0 0 0 0 -2 ...\n",
      " $ PAY_5                     : num [1:30000] -2 0 0 0 0 0 0 0 0 -1 ...\n",
      " $ PAY_6                     : num [1:30000] -2 2 0 0 0 0 0 -1 0 -1 ...\n",
      " $ BILL_AMT1                 : num [1:30000] 3913 2682 29239 46990 8617 ...\n",
      " $ BILL_AMT2                 : num [1:30000] 3102 1725 14027 48233 5670 ...\n",
      " $ BILL_AMT3                 : num [1:30000] 689 2682 13559 49291 35835 ...\n",
      " $ BILL_AMT4                 : num [1:30000] 0 3272 14331 28314 20940 ...\n",
      " $ BILL_AMT5                 : num [1:30000] 0 3455 14948 28959 19146 ...\n",
      " $ BILL_AMT6                 : num [1:30000] 0 3261 15549 29547 19131 ...\n",
      " $ PAY_AMT1                  : num [1:30000] 0 0 1518 2000 2000 ...\n",
      " $ PAY_AMT2                  : num [1:30000] 689 1000 1500 2019 36681 ...\n",
      " $ PAY_AMT3                  : num [1:30000] 0 1000 1000 1200 10000 657 38000 0 432 0 ...\n",
      " $ PAY_AMT4                  : num [1:30000] 0 1000 1000 1100 9000 ...\n",
      " $ PAY_AMT5                  : num [1:30000] 0 0 1000 1069 689 ...\n",
      " $ PAY_AMT6                  : num [1:30000] 0 2000 5000 1000 679 ...\n",
      " $ default payment next month: num [1:30000] 1 1 0 0 0 0 0 0 0 0 ...\n"
     ]
    }
   ],
   "source": [
    "str(data)"
   ]
  },
  {
   "cell_type": "code",
   "execution_count": 4,
   "id": "deab6ffe",
   "metadata": {
    "scrolled": false
   },
   "outputs": [
    {
     "data": {
      "text/html": [
       "<table class=\"dataframe\">\n",
       "<caption>A tibble: 6 × 25</caption>\n",
       "<thead>\n",
       "\t<tr><th scope=col>ID</th><th scope=col>LIMIT_BAL</th><th scope=col>SEX</th><th scope=col>EDUCATION</th><th scope=col>MARRIAGE</th><th scope=col>AGE</th><th scope=col>PAY_0</th><th scope=col>PAY_2</th><th scope=col>PAY_3</th><th scope=col>PAY_4</th><th scope=col>⋯</th><th scope=col>BILL_AMT4</th><th scope=col>BILL_AMT5</th><th scope=col>BILL_AMT6</th><th scope=col>PAY_AMT1</th><th scope=col>PAY_AMT2</th><th scope=col>PAY_AMT3</th><th scope=col>PAY_AMT4</th><th scope=col>PAY_AMT5</th><th scope=col>PAY_AMT6</th><th scope=col>default payment next month</th></tr>\n",
       "\t<tr><th scope=col>&lt;dbl&gt;</th><th scope=col>&lt;dbl&gt;</th><th scope=col>&lt;dbl&gt;</th><th scope=col>&lt;dbl&gt;</th><th scope=col>&lt;dbl&gt;</th><th scope=col>&lt;dbl&gt;</th><th scope=col>&lt;dbl&gt;</th><th scope=col>&lt;dbl&gt;</th><th scope=col>&lt;dbl&gt;</th><th scope=col>&lt;dbl&gt;</th><th scope=col>⋯</th><th scope=col>&lt;dbl&gt;</th><th scope=col>&lt;dbl&gt;</th><th scope=col>&lt;dbl&gt;</th><th scope=col>&lt;dbl&gt;</th><th scope=col>&lt;dbl&gt;</th><th scope=col>&lt;dbl&gt;</th><th scope=col>&lt;dbl&gt;</th><th scope=col>&lt;dbl&gt;</th><th scope=col>&lt;dbl&gt;</th><th scope=col>&lt;dbl&gt;</th></tr>\n",
       "</thead>\n",
       "<tbody>\n",
       "\t<tr><td>1</td><td> 20000</td><td>2</td><td>2</td><td>1</td><td>24</td><td> 2</td><td>2</td><td>-1</td><td>-1</td><td>⋯</td><td>    0</td><td>    0</td><td>    0</td><td>   0</td><td>  689</td><td>    0</td><td>   0</td><td>   0</td><td>   0</td><td>1</td></tr>\n",
       "\t<tr><td>2</td><td>120000</td><td>2</td><td>2</td><td>2</td><td>26</td><td>-1</td><td>2</td><td> 0</td><td> 0</td><td>⋯</td><td> 3272</td><td> 3455</td><td> 3261</td><td>   0</td><td> 1000</td><td> 1000</td><td>1000</td><td>   0</td><td>2000</td><td>1</td></tr>\n",
       "\t<tr><td>3</td><td> 90000</td><td>2</td><td>2</td><td>2</td><td>34</td><td> 0</td><td>0</td><td> 0</td><td> 0</td><td>⋯</td><td>14331</td><td>14948</td><td>15549</td><td>1518</td><td> 1500</td><td> 1000</td><td>1000</td><td>1000</td><td>5000</td><td>0</td></tr>\n",
       "\t<tr><td>4</td><td> 50000</td><td>2</td><td>2</td><td>1</td><td>37</td><td> 0</td><td>0</td><td> 0</td><td> 0</td><td>⋯</td><td>28314</td><td>28959</td><td>29547</td><td>2000</td><td> 2019</td><td> 1200</td><td>1100</td><td>1069</td><td>1000</td><td>0</td></tr>\n",
       "\t<tr><td>5</td><td> 50000</td><td>1</td><td>2</td><td>1</td><td>57</td><td>-1</td><td>0</td><td>-1</td><td> 0</td><td>⋯</td><td>20940</td><td>19146</td><td>19131</td><td>2000</td><td>36681</td><td>10000</td><td>9000</td><td> 689</td><td> 679</td><td>0</td></tr>\n",
       "\t<tr><td>6</td><td> 50000</td><td>1</td><td>1</td><td>2</td><td>37</td><td> 0</td><td>0</td><td> 0</td><td> 0</td><td>⋯</td><td>19394</td><td>19619</td><td>20024</td><td>2500</td><td> 1815</td><td>  657</td><td>1000</td><td>1000</td><td> 800</td><td>0</td></tr>\n",
       "</tbody>\n",
       "</table>\n"
      ],
      "text/latex": [
       "A tibble: 6 × 25\n",
       "\\begin{tabular}{lllllllllllllllllllll}\n",
       " ID & LIMIT\\_BAL & SEX & EDUCATION & MARRIAGE & AGE & PAY\\_0 & PAY\\_2 & PAY\\_3 & PAY\\_4 & ⋯ & BILL\\_AMT4 & BILL\\_AMT5 & BILL\\_AMT6 & PAY\\_AMT1 & PAY\\_AMT2 & PAY\\_AMT3 & PAY\\_AMT4 & PAY\\_AMT5 & PAY\\_AMT6 & default payment next month\\\\\n",
       " <dbl> & <dbl> & <dbl> & <dbl> & <dbl> & <dbl> & <dbl> & <dbl> & <dbl> & <dbl> & ⋯ & <dbl> & <dbl> & <dbl> & <dbl> & <dbl> & <dbl> & <dbl> & <dbl> & <dbl> & <dbl>\\\\\n",
       "\\hline\n",
       "\t 1 &  20000 & 2 & 2 & 1 & 24 &  2 & 2 & -1 & -1 & ⋯ &     0 &     0 &     0 &    0 &   689 &     0 &    0 &    0 &    0 & 1\\\\\n",
       "\t 2 & 120000 & 2 & 2 & 2 & 26 & -1 & 2 &  0 &  0 & ⋯ &  3272 &  3455 &  3261 &    0 &  1000 &  1000 & 1000 &    0 & 2000 & 1\\\\\n",
       "\t 3 &  90000 & 2 & 2 & 2 & 34 &  0 & 0 &  0 &  0 & ⋯ & 14331 & 14948 & 15549 & 1518 &  1500 &  1000 & 1000 & 1000 & 5000 & 0\\\\\n",
       "\t 4 &  50000 & 2 & 2 & 1 & 37 &  0 & 0 &  0 &  0 & ⋯ & 28314 & 28959 & 29547 & 2000 &  2019 &  1200 & 1100 & 1069 & 1000 & 0\\\\\n",
       "\t 5 &  50000 & 1 & 2 & 1 & 57 & -1 & 0 & -1 &  0 & ⋯ & 20940 & 19146 & 19131 & 2000 & 36681 & 10000 & 9000 &  689 &  679 & 0\\\\\n",
       "\t 6 &  50000 & 1 & 1 & 2 & 37 &  0 & 0 &  0 &  0 & ⋯ & 19394 & 19619 & 20024 & 2500 &  1815 &   657 & 1000 & 1000 &  800 & 0\\\\\n",
       "\\end{tabular}\n"
      ],
      "text/markdown": [
       "\n",
       "A tibble: 6 × 25\n",
       "\n",
       "| ID &lt;dbl&gt; | LIMIT_BAL &lt;dbl&gt; | SEX &lt;dbl&gt; | EDUCATION &lt;dbl&gt; | MARRIAGE &lt;dbl&gt; | AGE &lt;dbl&gt; | PAY_0 &lt;dbl&gt; | PAY_2 &lt;dbl&gt; | PAY_3 &lt;dbl&gt; | PAY_4 &lt;dbl&gt; | ⋯ ⋯ | BILL_AMT4 &lt;dbl&gt; | BILL_AMT5 &lt;dbl&gt; | BILL_AMT6 &lt;dbl&gt; | PAY_AMT1 &lt;dbl&gt; | PAY_AMT2 &lt;dbl&gt; | PAY_AMT3 &lt;dbl&gt; | PAY_AMT4 &lt;dbl&gt; | PAY_AMT5 &lt;dbl&gt; | PAY_AMT6 &lt;dbl&gt; | default payment next month &lt;dbl&gt; |\n",
       "|---|---|---|---|---|---|---|---|---|---|---|---|---|---|---|---|---|---|---|---|---|\n",
       "| 1 |  20000 | 2 | 2 | 1 | 24 |  2 | 2 | -1 | -1 | ⋯ |     0 |     0 |     0 |    0 |   689 |     0 |    0 |    0 |    0 | 1 |\n",
       "| 2 | 120000 | 2 | 2 | 2 | 26 | -1 | 2 |  0 |  0 | ⋯ |  3272 |  3455 |  3261 |    0 |  1000 |  1000 | 1000 |    0 | 2000 | 1 |\n",
       "| 3 |  90000 | 2 | 2 | 2 | 34 |  0 | 0 |  0 |  0 | ⋯ | 14331 | 14948 | 15549 | 1518 |  1500 |  1000 | 1000 | 1000 | 5000 | 0 |\n",
       "| 4 |  50000 | 2 | 2 | 1 | 37 |  0 | 0 |  0 |  0 | ⋯ | 28314 | 28959 | 29547 | 2000 |  2019 |  1200 | 1100 | 1069 | 1000 | 0 |\n",
       "| 5 |  50000 | 1 | 2 | 1 | 57 | -1 | 0 | -1 |  0 | ⋯ | 20940 | 19146 | 19131 | 2000 | 36681 | 10000 | 9000 |  689 |  679 | 0 |\n",
       "| 6 |  50000 | 1 | 1 | 2 | 37 |  0 | 0 |  0 |  0 | ⋯ | 19394 | 19619 | 20024 | 2500 |  1815 |   657 | 1000 | 1000 |  800 | 0 |\n",
       "\n"
      ],
      "text/plain": [
       "  ID LIMIT_BAL SEX EDUCATION MARRIAGE AGE PAY_0 PAY_2 PAY_3 PAY_4 ⋯ BILL_AMT4\n",
       "1 1   20000    2   2         1        24   2    2     -1    -1    ⋯     0    \n",
       "2 2  120000    2   2         2        26  -1    2      0     0    ⋯  3272    \n",
       "3 3   90000    2   2         2        34   0    0      0     0    ⋯ 14331    \n",
       "4 4   50000    2   2         1        37   0    0      0     0    ⋯ 28314    \n",
       "5 5   50000    1   2         1        57  -1    0     -1     0    ⋯ 20940    \n",
       "6 6   50000    1   1         2        37   0    0      0     0    ⋯ 19394    \n",
       "  BILL_AMT5 BILL_AMT6 PAY_AMT1 PAY_AMT2 PAY_AMT3 PAY_AMT4 PAY_AMT5 PAY_AMT6\n",
       "1     0         0        0       689        0       0        0        0    \n",
       "2  3455      3261        0      1000     1000    1000        0     2000    \n",
       "3 14948     15549     1518      1500     1000    1000     1000     5000    \n",
       "4 28959     29547     2000      2019     1200    1100     1069     1000    \n",
       "5 19146     19131     2000     36681    10000    9000      689      679    \n",
       "6 19619     20024     2500      1815      657    1000     1000      800    \n",
       "  default payment next month\n",
       "1 1                         \n",
       "2 1                         \n",
       "3 0                         \n",
       "4 0                         \n",
       "5 0                         \n",
       "6 0                         "
      ]
     },
     "metadata": {},
     "output_type": "display_data"
    }
   ],
   "source": [
    "head(data)"
   ]
  },
  {
   "cell_type": "code",
   "execution_count": 5,
   "id": "f85531fb",
   "metadata": {},
   "outputs": [],
   "source": [
    "data['DEFAULT']<-data[,25]\n",
    "data<-data[,-25]"
   ]
  },
  {
   "cell_type": "code",
   "execution_count": 6,
   "id": "83759bd0",
   "metadata": {},
   "outputs": [],
   "source": [
    "#Removing ID column\n",
    "data<-data[,-1]"
   ]
  },
  {
   "cell_type": "code",
   "execution_count": 7,
   "id": "941644c4",
   "metadata": {},
   "outputs": [],
   "source": [
    "data[data== \"\"] <- NA "
   ]
  },
  {
   "cell_type": "code",
   "execution_count": 8,
   "id": "4984b049",
   "metadata": {},
   "outputs": [
    {
     "data": {
      "text/html": [
       "<style>\n",
       ".dl-inline {width: auto; margin:0; padding: 0}\n",
       ".dl-inline>dt, .dl-inline>dd {float: none; width: auto; display: inline-block}\n",
       ".dl-inline>dt::after {content: \":\\0020\"; padding-right: .5ex}\n",
       ".dl-inline>dt:not(:first-of-type) {padding-left: .5ex}\n",
       "</style><dl class=dl-inline><dt>LIMIT_BAL</dt><dd>0</dd><dt>SEX</dt><dd>0</dd><dt>EDUCATION</dt><dd>0</dd><dt>MARRIAGE</dt><dd>0</dd><dt>AGE</dt><dd>0</dd><dt>PAY_0</dt><dd>0</dd><dt>PAY_2</dt><dd>0</dd><dt>PAY_3</dt><dd>0</dd><dt>PAY_4</dt><dd>0</dd><dt>PAY_5</dt><dd>0</dd><dt>PAY_6</dt><dd>0</dd><dt>BILL_AMT1</dt><dd>0</dd><dt>BILL_AMT2</dt><dd>0</dd><dt>BILL_AMT3</dt><dd>0</dd><dt>BILL_AMT4</dt><dd>0</dd><dt>BILL_AMT5</dt><dd>0</dd><dt>BILL_AMT6</dt><dd>0</dd><dt>PAY_AMT1</dt><dd>0</dd><dt>PAY_AMT2</dt><dd>0</dd><dt>PAY_AMT3</dt><dd>0</dd><dt>PAY_AMT4</dt><dd>0</dd><dt>PAY_AMT5</dt><dd>0</dd><dt>PAY_AMT6</dt><dd>0</dd><dt>DEFAULT</dt><dd>0</dd></dl>\n"
      ],
      "text/latex": [
       "\\begin{description*}\n",
       "\\item[LIMIT\\textbackslash{}\\_BAL] 0\n",
       "\\item[SEX] 0\n",
       "\\item[EDUCATION] 0\n",
       "\\item[MARRIAGE] 0\n",
       "\\item[AGE] 0\n",
       "\\item[PAY\\textbackslash{}\\_0] 0\n",
       "\\item[PAY\\textbackslash{}\\_2] 0\n",
       "\\item[PAY\\textbackslash{}\\_3] 0\n",
       "\\item[PAY\\textbackslash{}\\_4] 0\n",
       "\\item[PAY\\textbackslash{}\\_5] 0\n",
       "\\item[PAY\\textbackslash{}\\_6] 0\n",
       "\\item[BILL\\textbackslash{}\\_AMT1] 0\n",
       "\\item[BILL\\textbackslash{}\\_AMT2] 0\n",
       "\\item[BILL\\textbackslash{}\\_AMT3] 0\n",
       "\\item[BILL\\textbackslash{}\\_AMT4] 0\n",
       "\\item[BILL\\textbackslash{}\\_AMT5] 0\n",
       "\\item[BILL\\textbackslash{}\\_AMT6] 0\n",
       "\\item[PAY\\textbackslash{}\\_AMT1] 0\n",
       "\\item[PAY\\textbackslash{}\\_AMT2] 0\n",
       "\\item[PAY\\textbackslash{}\\_AMT3] 0\n",
       "\\item[PAY\\textbackslash{}\\_AMT4] 0\n",
       "\\item[PAY\\textbackslash{}\\_AMT5] 0\n",
       "\\item[PAY\\textbackslash{}\\_AMT6] 0\n",
       "\\item[DEFAULT] 0\n",
       "\\end{description*}\n"
      ],
      "text/markdown": [
       "LIMIT_BAL\n",
       ":   0SEX\n",
       ":   0EDUCATION\n",
       ":   0MARRIAGE\n",
       ":   0AGE\n",
       ":   0PAY_0\n",
       ":   0PAY_2\n",
       ":   0PAY_3\n",
       ":   0PAY_4\n",
       ":   0PAY_5\n",
       ":   0PAY_6\n",
       ":   0BILL_AMT1\n",
       ":   0BILL_AMT2\n",
       ":   0BILL_AMT3\n",
       ":   0BILL_AMT4\n",
       ":   0BILL_AMT5\n",
       ":   0BILL_AMT6\n",
       ":   0PAY_AMT1\n",
       ":   0PAY_AMT2\n",
       ":   0PAY_AMT3\n",
       ":   0PAY_AMT4\n",
       ":   0PAY_AMT5\n",
       ":   0PAY_AMT6\n",
       ":   0DEFAULT\n",
       ":   0\n",
       "\n"
      ],
      "text/plain": [
       "LIMIT_BAL       SEX EDUCATION  MARRIAGE       AGE     PAY_0     PAY_2     PAY_3 \n",
       "        0         0         0         0         0         0         0         0 \n",
       "    PAY_4     PAY_5     PAY_6 BILL_AMT1 BILL_AMT2 BILL_AMT3 BILL_AMT4 BILL_AMT5 \n",
       "        0         0         0         0         0         0         0         0 \n",
       "BILL_AMT6  PAY_AMT1  PAY_AMT2  PAY_AMT3  PAY_AMT4  PAY_AMT5  PAY_AMT6   DEFAULT \n",
       "        0         0         0         0         0         0         0         0 "
      ]
     },
     "metadata": {},
     "output_type": "display_data"
    }
   ],
   "source": [
    "sapply(data,function(x) sum(is.na(x)))\n",
    "#No missing value"
   ]
  },
  {
   "cell_type": "code",
   "execution_count": 9,
   "id": "2075c49c",
   "metadata": {},
   "outputs": [
    {
     "data": {
      "text/html": [
       "<style>\n",
       ".list-inline {list-style: none; margin:0; padding: 0}\n",
       ".list-inline>li {display: inline-block}\n",
       ".list-inline>li:not(:last-child)::after {content: \"\\00b7\"; padding: 0 .5ex}\n",
       "</style>\n",
       "<ol class=list-inline><li>2</li><li>1</li></ol>\n"
      ],
      "text/latex": [
       "\\begin{enumerate*}\n",
       "\\item 2\n",
       "\\item 1\n",
       "\\end{enumerate*}\n"
      ],
      "text/markdown": [
       "1. 2\n",
       "2. 1\n",
       "\n",
       "\n"
      ],
      "text/plain": [
       "[1] 2 1"
      ]
     },
     "metadata": {},
     "output_type": "display_data"
    }
   ],
   "source": [
    "unique(data$SEX)"
   ]
  },
  {
   "cell_type": "code",
   "execution_count": 10,
   "id": "fd63cd7d",
   "metadata": {},
   "outputs": [
    {
     "data": {
      "text/html": [
       "<style>\n",
       ".list-inline {list-style: none; margin:0; padding: 0}\n",
       ".list-inline>li {display: inline-block}\n",
       ".list-inline>li:not(:last-child)::after {content: \"\\00b7\"; padding: 0 .5ex}\n",
       "</style>\n",
       "<ol class=list-inline><li>1</li><li>2</li><li>3</li><li>0</li></ol>\n"
      ],
      "text/latex": [
       "\\begin{enumerate*}\n",
       "\\item 1\n",
       "\\item 2\n",
       "\\item 3\n",
       "\\item 0\n",
       "\\end{enumerate*}\n"
      ],
      "text/markdown": [
       "1. 1\n",
       "2. 2\n",
       "3. 3\n",
       "4. 0\n",
       "\n",
       "\n"
      ],
      "text/plain": [
       "[1] 1 2 3 0"
      ]
     },
     "metadata": {},
     "output_type": "display_data"
    }
   ],
   "source": [
    "unique(data$MARRIAGE)\n",
    "#We will treat zero as a missing value"
   ]
  },
  {
   "cell_type": "code",
   "execution_count": 11,
   "id": "94605ca6",
   "metadata": {},
   "outputs": [
    {
     "data": {
      "text/html": [
       "<style>\n",
       ".list-inline {list-style: none; margin:0; padding: 0}\n",
       ".list-inline>li {display: inline-block}\n",
       ".list-inline>li:not(:last-child)::after {content: \"\\00b7\"; padding: 0 .5ex}\n",
       "</style>\n",
       "<ol class=list-inline><li>2</li><li>1</li><li>3</li><li>5</li><li>4</li><li>6</li><li>0</li></ol>\n"
      ],
      "text/latex": [
       "\\begin{enumerate*}\n",
       "\\item 2\n",
       "\\item 1\n",
       "\\item 3\n",
       "\\item 5\n",
       "\\item 4\n",
       "\\item 6\n",
       "\\item 0\n",
       "\\end{enumerate*}\n"
      ],
      "text/markdown": [
       "1. 2\n",
       "2. 1\n",
       "3. 3\n",
       "4. 5\n",
       "5. 4\n",
       "6. 6\n",
       "7. 0\n",
       "\n",
       "\n"
      ],
      "text/plain": [
       "[1] 2 1 3 5 4 6 0"
      ]
     },
     "metadata": {},
     "output_type": "display_data"
    }
   ],
   "source": [
    "unique(data$EDUCATION)\n",
    "#We will treat 0,5 and 6 as a missing value"
   ]
  },
  {
   "cell_type": "code",
   "execution_count": 12,
   "id": "36ab2926",
   "metadata": {},
   "outputs": [],
   "source": [
    "data<-data[!(data$EDUCATION==0 | data$EDUCATION==5| data$EDUCATION==6),]\n",
    "data<-data[!(data$MARRIAGE==0),]"
   ]
  },
  {
   "cell_type": "code",
   "execution_count": 13,
   "id": "0b2419a8",
   "metadata": {},
   "outputs": [],
   "source": [
    "#Converting categorical variables to factor since svm works in real valued space\n",
    "data$SEX<-as.factor(data$SEX)\n",
    "data$EDUCATION<-as.factor(data$EDUCATION)\n",
    "data$MARRIAGE<-as.factor(data$MARRIAGE)\n",
    "data$PAY_0<-as.factor(data$PAY_0)\n",
    "data$PAY_2<-as.factor(data$PAY_2)\n",
    "data$PAY_3<-as.factor(data$PAY_3)\n",
    "data$PAY_4<-as.factor(data$PAY_4)\n",
    "data$PAY_5<-as.factor(data$PAY_5)\n",
    "data$PAY_6<-as.factor(data$PAY_6)\n",
    "data$DEFAULT<-as.factor(data$DEFAULT)"
   ]
  },
  {
   "cell_type": "code",
   "execution_count": 14,
   "id": "06b75765",
   "metadata": {},
   "outputs": [
    {
     "data": {
      "text/plain": [
       "\n",
       "    0     1 \n",
       "22996  6605 "
      ]
     },
     "metadata": {},
     "output_type": "display_data"
    }
   ],
   "source": [
    "table(data$DEFAULT)"
   ]
  },
  {
   "cell_type": "markdown",
   "id": "1a96176e",
   "metadata": {},
   "source": [
    "Data Integration"
   ]
  },
  {
   "cell_type": "code",
   "execution_count": 15,
   "id": "d9f78317",
   "metadata": {},
   "outputs": [],
   "source": [
    "#Dataframe with only defaulters\n",
    "data_default<-subset(data, DEFAULT == '1')"
   ]
  },
  {
   "cell_type": "code",
   "execution_count": 16,
   "id": "f2ada67c",
   "metadata": {},
   "outputs": [],
   "source": [
    "#Dataframe with only non-defaulters\n",
    "data_no_default<-subset(data, DEFAULT == '0')"
   ]
  },
  {
   "cell_type": "code",
   "execution_count": 17,
   "id": "35f0c9fc",
   "metadata": {},
   "outputs": [
    {
     "data": {
      "text/html": [
       "<table class=\"dataframe\">\n",
       "<caption>A tibble: 6 × 24</caption>\n",
       "<thead>\n",
       "\t<tr><th scope=col>LIMIT_BAL</th><th scope=col>SEX</th><th scope=col>EDUCATION</th><th scope=col>MARRIAGE</th><th scope=col>AGE</th><th scope=col>PAY_0</th><th scope=col>PAY_2</th><th scope=col>PAY_3</th><th scope=col>PAY_4</th><th scope=col>PAY_5</th><th scope=col>⋯</th><th scope=col>BILL_AMT4</th><th scope=col>BILL_AMT5</th><th scope=col>BILL_AMT6</th><th scope=col>PAY_AMT1</th><th scope=col>PAY_AMT2</th><th scope=col>PAY_AMT3</th><th scope=col>PAY_AMT4</th><th scope=col>PAY_AMT5</th><th scope=col>PAY_AMT6</th><th scope=col>DEFAULT</th></tr>\n",
       "\t<tr><th scope=col>&lt;dbl&gt;</th><th scope=col>&lt;fct&gt;</th><th scope=col>&lt;fct&gt;</th><th scope=col>&lt;fct&gt;</th><th scope=col>&lt;dbl&gt;</th><th scope=col>&lt;fct&gt;</th><th scope=col>&lt;fct&gt;</th><th scope=col>&lt;fct&gt;</th><th scope=col>&lt;fct&gt;</th><th scope=col>&lt;fct&gt;</th><th scope=col>⋯</th><th scope=col>&lt;dbl&gt;</th><th scope=col>&lt;dbl&gt;</th><th scope=col>&lt;dbl&gt;</th><th scope=col>&lt;dbl&gt;</th><th scope=col>&lt;dbl&gt;</th><th scope=col>&lt;dbl&gt;</th><th scope=col>&lt;dbl&gt;</th><th scope=col>&lt;dbl&gt;</th><th scope=col>&lt;dbl&gt;</th><th scope=col>&lt;fct&gt;</th></tr>\n",
       "</thead>\n",
       "<tbody>\n",
       "\t<tr><td> 20000</td><td>2</td><td>2</td><td>1</td><td>24</td><td>2 </td><td>2 </td><td>-1</td><td>-1</td><td>-2</td><td>⋯</td><td>    0</td><td>    0</td><td>    0</td><td>   0</td><td> 689</td><td>   0</td><td>   0</td><td>   0</td><td>   0</td><td>1</td></tr>\n",
       "\t<tr><td>120000</td><td>2</td><td>2</td><td>2</td><td>26</td><td>-1</td><td>2 </td><td>0 </td><td>0 </td><td>0 </td><td>⋯</td><td> 3272</td><td> 3455</td><td> 3261</td><td>   0</td><td>1000</td><td>1000</td><td>1000</td><td>   0</td><td>2000</td><td>1</td></tr>\n",
       "\t<tr><td> 70000</td><td>1</td><td>2</td><td>2</td><td>30</td><td>1 </td><td>2 </td><td>2 </td><td>0 </td><td>0 </td><td>⋯</td><td>66782</td><td>36137</td><td>36894</td><td>3200</td><td>   0</td><td>3000</td><td>3000</td><td>1500</td><td>   0</td><td>1</td></tr>\n",
       "\t<tr><td> 20000</td><td>1</td><td>1</td><td>2</td><td>24</td><td>0 </td><td>0 </td><td>2 </td><td>2 </td><td>2 </td><td>⋯</td><td>18338</td><td>17905</td><td>19104</td><td>3200</td><td>   0</td><td>1500</td><td>   0</td><td>1650</td><td>   0</td><td>1</td></tr>\n",
       "\t<tr><td>120000</td><td>2</td><td>2</td><td>1</td><td>39</td><td>-1</td><td>-1</td><td>-1</td><td>-1</td><td>-1</td><td>⋯</td><td>    0</td><td>  632</td><td>  316</td><td> 316</td><td> 316</td><td>   0</td><td> 632</td><td> 316</td><td>   0</td><td>1</td></tr>\n",
       "\t<tr><td> 70000</td><td>2</td><td>2</td><td>2</td><td>26</td><td>2 </td><td>0 </td><td>0 </td><td>2 </td><td>2 </td><td>⋯</td><td>44006</td><td>46905</td><td>46012</td><td>2007</td><td>3582</td><td>   0</td><td>3601</td><td>   0</td><td>1820</td><td>1</td></tr>\n",
       "</tbody>\n",
       "</table>\n"
      ],
      "text/latex": [
       "A tibble: 6 × 24\n",
       "\\begin{tabular}{lllllllllllllllllllll}\n",
       " LIMIT\\_BAL & SEX & EDUCATION & MARRIAGE & AGE & PAY\\_0 & PAY\\_2 & PAY\\_3 & PAY\\_4 & PAY\\_5 & ⋯ & BILL\\_AMT4 & BILL\\_AMT5 & BILL\\_AMT6 & PAY\\_AMT1 & PAY\\_AMT2 & PAY\\_AMT3 & PAY\\_AMT4 & PAY\\_AMT5 & PAY\\_AMT6 & DEFAULT\\\\\n",
       " <dbl> & <fct> & <fct> & <fct> & <dbl> & <fct> & <fct> & <fct> & <fct> & <fct> & ⋯ & <dbl> & <dbl> & <dbl> & <dbl> & <dbl> & <dbl> & <dbl> & <dbl> & <dbl> & <fct>\\\\\n",
       "\\hline\n",
       "\t  20000 & 2 & 2 & 1 & 24 & 2  & 2  & -1 & -1 & -2 & ⋯ &     0 &     0 &     0 &    0 &  689 &    0 &    0 &    0 &    0 & 1\\\\\n",
       "\t 120000 & 2 & 2 & 2 & 26 & -1 & 2  & 0  & 0  & 0  & ⋯ &  3272 &  3455 &  3261 &    0 & 1000 & 1000 & 1000 &    0 & 2000 & 1\\\\\n",
       "\t  70000 & 1 & 2 & 2 & 30 & 1  & 2  & 2  & 0  & 0  & ⋯ & 66782 & 36137 & 36894 & 3200 &    0 & 3000 & 3000 & 1500 &    0 & 1\\\\\n",
       "\t  20000 & 1 & 1 & 2 & 24 & 0  & 0  & 2  & 2  & 2  & ⋯ & 18338 & 17905 & 19104 & 3200 &    0 & 1500 &    0 & 1650 &    0 & 1\\\\\n",
       "\t 120000 & 2 & 2 & 1 & 39 & -1 & -1 & -1 & -1 & -1 & ⋯ &     0 &   632 &   316 &  316 &  316 &    0 &  632 &  316 &    0 & 1\\\\\n",
       "\t  70000 & 2 & 2 & 2 & 26 & 2  & 0  & 0  & 2  & 2  & ⋯ & 44006 & 46905 & 46012 & 2007 & 3582 &    0 & 3601 &    0 & 1820 & 1\\\\\n",
       "\\end{tabular}\n"
      ],
      "text/markdown": [
       "\n",
       "A tibble: 6 × 24\n",
       "\n",
       "| LIMIT_BAL &lt;dbl&gt; | SEX &lt;fct&gt; | EDUCATION &lt;fct&gt; | MARRIAGE &lt;fct&gt; | AGE &lt;dbl&gt; | PAY_0 &lt;fct&gt; | PAY_2 &lt;fct&gt; | PAY_3 &lt;fct&gt; | PAY_4 &lt;fct&gt; | PAY_5 &lt;fct&gt; | ⋯ ⋯ | BILL_AMT4 &lt;dbl&gt; | BILL_AMT5 &lt;dbl&gt; | BILL_AMT6 &lt;dbl&gt; | PAY_AMT1 &lt;dbl&gt; | PAY_AMT2 &lt;dbl&gt; | PAY_AMT3 &lt;dbl&gt; | PAY_AMT4 &lt;dbl&gt; | PAY_AMT5 &lt;dbl&gt; | PAY_AMT6 &lt;dbl&gt; | DEFAULT &lt;fct&gt; |\n",
       "|---|---|---|---|---|---|---|---|---|---|---|---|---|---|---|---|---|---|---|---|---|\n",
       "|  20000 | 2 | 2 | 1 | 24 | 2  | 2  | -1 | -1 | -2 | ⋯ |     0 |     0 |     0 |    0 |  689 |    0 |    0 |    0 |    0 | 1 |\n",
       "| 120000 | 2 | 2 | 2 | 26 | -1 | 2  | 0  | 0  | 0  | ⋯ |  3272 |  3455 |  3261 |    0 | 1000 | 1000 | 1000 |    0 | 2000 | 1 |\n",
       "|  70000 | 1 | 2 | 2 | 30 | 1  | 2  | 2  | 0  | 0  | ⋯ | 66782 | 36137 | 36894 | 3200 |    0 | 3000 | 3000 | 1500 |    0 | 1 |\n",
       "|  20000 | 1 | 1 | 2 | 24 | 0  | 0  | 2  | 2  | 2  | ⋯ | 18338 | 17905 | 19104 | 3200 |    0 | 1500 |    0 | 1650 |    0 | 1 |\n",
       "| 120000 | 2 | 2 | 1 | 39 | -1 | -1 | -1 | -1 | -1 | ⋯ |     0 |   632 |   316 |  316 |  316 |    0 |  632 |  316 |    0 | 1 |\n",
       "|  70000 | 2 | 2 | 2 | 26 | 2  | 0  | 0  | 2  | 2  | ⋯ | 44006 | 46905 | 46012 | 2007 | 3582 |    0 | 3601 |    0 | 1820 | 1 |\n",
       "\n"
      ],
      "text/plain": [
       "  LIMIT_BAL SEX EDUCATION MARRIAGE AGE PAY_0 PAY_2 PAY_3 PAY_4 PAY_5 ⋯\n",
       "1  20000    2   2         1        24  2     2     -1    -1    -2    ⋯\n",
       "2 120000    2   2         2        26  -1    2     0     0     0     ⋯\n",
       "3  70000    1   2         2        30  1     2     2     0     0     ⋯\n",
       "4  20000    1   1         2        24  0     0     2     2     2     ⋯\n",
       "5 120000    2   2         1        39  -1    -1    -1    -1    -1    ⋯\n",
       "6  70000    2   2         2        26  2     0     0     2     2     ⋯\n",
       "  BILL_AMT4 BILL_AMT5 BILL_AMT6 PAY_AMT1 PAY_AMT2 PAY_AMT3 PAY_AMT4 PAY_AMT5\n",
       "1     0         0         0        0      689        0        0        0    \n",
       "2  3272      3455      3261        0     1000     1000     1000        0    \n",
       "3 66782     36137     36894     3200        0     3000     3000     1500    \n",
       "4 18338     17905     19104     3200        0     1500        0     1650    \n",
       "5     0       632       316      316      316        0      632      316    \n",
       "6 44006     46905     46012     2007     3582        0     3601        0    \n",
       "  PAY_AMT6 DEFAULT\n",
       "1    0     1      \n",
       "2 2000     1      \n",
       "3    0     1      \n",
       "4    0     1      \n",
       "5    0     1      \n",
       "6 1820     1      "
      ]
     },
     "metadata": {},
     "output_type": "display_data"
    },
    {
     "data": {
      "text/html": [
       "6605"
      ],
      "text/latex": [
       "6605"
      ],
      "text/markdown": [
       "6605"
      ],
      "text/plain": [
       "[1] 6605"
      ]
     },
     "metadata": {},
     "output_type": "display_data"
    }
   ],
   "source": [
    "head(data_default)\n",
    "length(data_default$DEFAULT)"
   ]
  },
  {
   "cell_type": "code",
   "execution_count": 18,
   "id": "6f3c4e52",
   "metadata": {},
   "outputs": [
    {
     "data": {
      "text/html": [
       "<table class=\"dataframe\">\n",
       "<caption>A tibble: 6 × 24</caption>\n",
       "<thead>\n",
       "\t<tr><th scope=col>LIMIT_BAL</th><th scope=col>SEX</th><th scope=col>EDUCATION</th><th scope=col>MARRIAGE</th><th scope=col>AGE</th><th scope=col>PAY_0</th><th scope=col>PAY_2</th><th scope=col>PAY_3</th><th scope=col>PAY_4</th><th scope=col>PAY_5</th><th scope=col>⋯</th><th scope=col>BILL_AMT4</th><th scope=col>BILL_AMT5</th><th scope=col>BILL_AMT6</th><th scope=col>PAY_AMT1</th><th scope=col>PAY_AMT2</th><th scope=col>PAY_AMT3</th><th scope=col>PAY_AMT4</th><th scope=col>PAY_AMT5</th><th scope=col>PAY_AMT6</th><th scope=col>DEFAULT</th></tr>\n",
       "\t<tr><th scope=col>&lt;dbl&gt;</th><th scope=col>&lt;fct&gt;</th><th scope=col>&lt;fct&gt;</th><th scope=col>&lt;fct&gt;</th><th scope=col>&lt;dbl&gt;</th><th scope=col>&lt;fct&gt;</th><th scope=col>&lt;fct&gt;</th><th scope=col>&lt;fct&gt;</th><th scope=col>&lt;fct&gt;</th><th scope=col>&lt;fct&gt;</th><th scope=col>⋯</th><th scope=col>&lt;dbl&gt;</th><th scope=col>&lt;dbl&gt;</th><th scope=col>&lt;dbl&gt;</th><th scope=col>&lt;dbl&gt;</th><th scope=col>&lt;dbl&gt;</th><th scope=col>&lt;dbl&gt;</th><th scope=col>&lt;dbl&gt;</th><th scope=col>&lt;dbl&gt;</th><th scope=col>&lt;dbl&gt;</th><th scope=col>&lt;fct&gt;</th></tr>\n",
       "</thead>\n",
       "<tbody>\n",
       "\t<tr><td>9e+04</td><td>2</td><td>2</td><td>2</td><td>34</td><td>0 </td><td>0 </td><td>0 </td><td>0</td><td>0</td><td>⋯</td><td> 14331</td><td> 14948</td><td> 15549</td><td> 1518</td><td> 1500</td><td> 1000</td><td> 1000</td><td> 1000</td><td> 5000</td><td>0</td></tr>\n",
       "\t<tr><td>5e+04</td><td>2</td><td>2</td><td>1</td><td>37</td><td>0 </td><td>0 </td><td>0 </td><td>0</td><td>0</td><td>⋯</td><td> 28314</td><td> 28959</td><td> 29547</td><td> 2000</td><td> 2019</td><td> 1200</td><td> 1100</td><td> 1069</td><td> 1000</td><td>0</td></tr>\n",
       "\t<tr><td>5e+04</td><td>1</td><td>2</td><td>1</td><td>57</td><td>-1</td><td>0 </td><td>-1</td><td>0</td><td>0</td><td>⋯</td><td> 20940</td><td> 19146</td><td> 19131</td><td> 2000</td><td>36681</td><td>10000</td><td> 9000</td><td>  689</td><td>  679</td><td>0</td></tr>\n",
       "\t<tr><td>5e+04</td><td>1</td><td>1</td><td>2</td><td>37</td><td>0 </td><td>0 </td><td>0 </td><td>0</td><td>0</td><td>⋯</td><td> 19394</td><td> 19619</td><td> 20024</td><td> 2500</td><td> 1815</td><td>  657</td><td> 1000</td><td> 1000</td><td>  800</td><td>0</td></tr>\n",
       "\t<tr><td>5e+05</td><td>1</td><td>1</td><td>2</td><td>29</td><td>0 </td><td>0 </td><td>0 </td><td>0</td><td>0</td><td>⋯</td><td>542653</td><td>483003</td><td>473944</td><td>55000</td><td>40000</td><td>38000</td><td>20239</td><td>13750</td><td>13770</td><td>0</td></tr>\n",
       "\t<tr><td>1e+05</td><td>2</td><td>2</td><td>2</td><td>23</td><td>0 </td><td>-1</td><td>-1</td><td>0</td><td>0</td><td>⋯</td><td>   221</td><td>  -159</td><td>   567</td><td>  380</td><td>  601</td><td>    0</td><td>  581</td><td> 1687</td><td> 1542</td><td>0</td></tr>\n",
       "</tbody>\n",
       "</table>\n"
      ],
      "text/latex": [
       "A tibble: 6 × 24\n",
       "\\begin{tabular}{lllllllllllllllllllll}\n",
       " LIMIT\\_BAL & SEX & EDUCATION & MARRIAGE & AGE & PAY\\_0 & PAY\\_2 & PAY\\_3 & PAY\\_4 & PAY\\_5 & ⋯ & BILL\\_AMT4 & BILL\\_AMT5 & BILL\\_AMT6 & PAY\\_AMT1 & PAY\\_AMT2 & PAY\\_AMT3 & PAY\\_AMT4 & PAY\\_AMT5 & PAY\\_AMT6 & DEFAULT\\\\\n",
       " <dbl> & <fct> & <fct> & <fct> & <dbl> & <fct> & <fct> & <fct> & <fct> & <fct> & ⋯ & <dbl> & <dbl> & <dbl> & <dbl> & <dbl> & <dbl> & <dbl> & <dbl> & <dbl> & <fct>\\\\\n",
       "\\hline\n",
       "\t 9e+04 & 2 & 2 & 2 & 34 & 0  & 0  & 0  & 0 & 0 & ⋯ &  14331 &  14948 &  15549 &  1518 &  1500 &  1000 &  1000 &  1000 &  5000 & 0\\\\\n",
       "\t 5e+04 & 2 & 2 & 1 & 37 & 0  & 0  & 0  & 0 & 0 & ⋯ &  28314 &  28959 &  29547 &  2000 &  2019 &  1200 &  1100 &  1069 &  1000 & 0\\\\\n",
       "\t 5e+04 & 1 & 2 & 1 & 57 & -1 & 0  & -1 & 0 & 0 & ⋯ &  20940 &  19146 &  19131 &  2000 & 36681 & 10000 &  9000 &   689 &   679 & 0\\\\\n",
       "\t 5e+04 & 1 & 1 & 2 & 37 & 0  & 0  & 0  & 0 & 0 & ⋯ &  19394 &  19619 &  20024 &  2500 &  1815 &   657 &  1000 &  1000 &   800 & 0\\\\\n",
       "\t 5e+05 & 1 & 1 & 2 & 29 & 0  & 0  & 0  & 0 & 0 & ⋯ & 542653 & 483003 & 473944 & 55000 & 40000 & 38000 & 20239 & 13750 & 13770 & 0\\\\\n",
       "\t 1e+05 & 2 & 2 & 2 & 23 & 0  & -1 & -1 & 0 & 0 & ⋯ &    221 &   -159 &    567 &   380 &   601 &     0 &   581 &  1687 &  1542 & 0\\\\\n",
       "\\end{tabular}\n"
      ],
      "text/markdown": [
       "\n",
       "A tibble: 6 × 24\n",
       "\n",
       "| LIMIT_BAL &lt;dbl&gt; | SEX &lt;fct&gt; | EDUCATION &lt;fct&gt; | MARRIAGE &lt;fct&gt; | AGE &lt;dbl&gt; | PAY_0 &lt;fct&gt; | PAY_2 &lt;fct&gt; | PAY_3 &lt;fct&gt; | PAY_4 &lt;fct&gt; | PAY_5 &lt;fct&gt; | ⋯ ⋯ | BILL_AMT4 &lt;dbl&gt; | BILL_AMT5 &lt;dbl&gt; | BILL_AMT6 &lt;dbl&gt; | PAY_AMT1 &lt;dbl&gt; | PAY_AMT2 &lt;dbl&gt; | PAY_AMT3 &lt;dbl&gt; | PAY_AMT4 &lt;dbl&gt; | PAY_AMT5 &lt;dbl&gt; | PAY_AMT6 &lt;dbl&gt; | DEFAULT &lt;fct&gt; |\n",
       "|---|---|---|---|---|---|---|---|---|---|---|---|---|---|---|---|---|---|---|---|---|\n",
       "| 9e+04 | 2 | 2 | 2 | 34 | 0  | 0  | 0  | 0 | 0 | ⋯ |  14331 |  14948 |  15549 |  1518 |  1500 |  1000 |  1000 |  1000 |  5000 | 0 |\n",
       "| 5e+04 | 2 | 2 | 1 | 37 | 0  | 0  | 0  | 0 | 0 | ⋯ |  28314 |  28959 |  29547 |  2000 |  2019 |  1200 |  1100 |  1069 |  1000 | 0 |\n",
       "| 5e+04 | 1 | 2 | 1 | 57 | -1 | 0  | -1 | 0 | 0 | ⋯ |  20940 |  19146 |  19131 |  2000 | 36681 | 10000 |  9000 |   689 |   679 | 0 |\n",
       "| 5e+04 | 1 | 1 | 2 | 37 | 0  | 0  | 0  | 0 | 0 | ⋯ |  19394 |  19619 |  20024 |  2500 |  1815 |   657 |  1000 |  1000 |   800 | 0 |\n",
       "| 5e+05 | 1 | 1 | 2 | 29 | 0  | 0  | 0  | 0 | 0 | ⋯ | 542653 | 483003 | 473944 | 55000 | 40000 | 38000 | 20239 | 13750 | 13770 | 0 |\n",
       "| 1e+05 | 2 | 2 | 2 | 23 | 0  | -1 | -1 | 0 | 0 | ⋯ |    221 |   -159 |    567 |   380 |   601 |     0 |   581 |  1687 |  1542 | 0 |\n",
       "\n"
      ],
      "text/plain": [
       "  LIMIT_BAL SEX EDUCATION MARRIAGE AGE PAY_0 PAY_2 PAY_3 PAY_4 PAY_5 ⋯\n",
       "1 9e+04     2   2         2        34  0     0     0     0     0     ⋯\n",
       "2 5e+04     2   2         1        37  0     0     0     0     0     ⋯\n",
       "3 5e+04     1   2         1        57  -1    0     -1    0     0     ⋯\n",
       "4 5e+04     1   1         2        37  0     0     0     0     0     ⋯\n",
       "5 5e+05     1   1         2        29  0     0     0     0     0     ⋯\n",
       "6 1e+05     2   2         2        23  0     -1    -1    0     0     ⋯\n",
       "  BILL_AMT4 BILL_AMT5 BILL_AMT6 PAY_AMT1 PAY_AMT2 PAY_AMT3 PAY_AMT4 PAY_AMT5\n",
       "1  14331     14948     15549     1518     1500     1000     1000     1000   \n",
       "2  28314     28959     29547     2000     2019     1200     1100     1069   \n",
       "3  20940     19146     19131     2000    36681    10000     9000      689   \n",
       "4  19394     19619     20024     2500     1815      657     1000     1000   \n",
       "5 542653    483003    473944    55000    40000    38000    20239    13750   \n",
       "6    221      -159       567      380      601        0      581     1687   \n",
       "  PAY_AMT6 DEFAULT\n",
       "1  5000    0      \n",
       "2  1000    0      \n",
       "3   679    0      \n",
       "4   800    0      \n",
       "5 13770    0      \n",
       "6  1542    0      "
      ]
     },
     "metadata": {},
     "output_type": "display_data"
    },
    {
     "data": {
      "text/html": [
       "22996"
      ],
      "text/latex": [
       "22996"
      ],
      "text/markdown": [
       "22996"
      ],
      "text/plain": [
       "[1] 22996"
      ]
     },
     "metadata": {},
     "output_type": "display_data"
    }
   ],
   "source": [
    "head(data_no_default)\n",
    "length(data_no_default$DEFAULT)"
   ]
  },
  {
   "cell_type": "code",
   "execution_count": 19,
   "id": "a6030595",
   "metadata": {},
   "outputs": [],
   "source": [
    "set.seed(1)\n",
    "data_default_downsampled<- data_default %>% slice_sample(n = 5000) #Randomly selcting 5000 rows\n",
    "data_no_default_downsampled<- data_no_default %>% slice_sample(n = 5000)"
   ]
  },
  {
   "cell_type": "code",
   "execution_count": 20,
   "id": "40a85325",
   "metadata": {},
   "outputs": [
    {
     "data": {
      "text/html": [
       "<table class=\"dataframe\">\n",
       "<caption>A tibble: 6 × 24</caption>\n",
       "<thead>\n",
       "\t<tr><th scope=col>LIMIT_BAL</th><th scope=col>SEX</th><th scope=col>EDUCATION</th><th scope=col>MARRIAGE</th><th scope=col>AGE</th><th scope=col>PAY_0</th><th scope=col>PAY_2</th><th scope=col>PAY_3</th><th scope=col>PAY_4</th><th scope=col>PAY_5</th><th scope=col>⋯</th><th scope=col>BILL_AMT4</th><th scope=col>BILL_AMT5</th><th scope=col>BILL_AMT6</th><th scope=col>PAY_AMT1</th><th scope=col>PAY_AMT2</th><th scope=col>PAY_AMT3</th><th scope=col>PAY_AMT4</th><th scope=col>PAY_AMT5</th><th scope=col>PAY_AMT6</th><th scope=col>DEFAULT</th></tr>\n",
       "\t<tr><th scope=col>&lt;dbl&gt;</th><th scope=col>&lt;fct&gt;</th><th scope=col>&lt;fct&gt;</th><th scope=col>&lt;fct&gt;</th><th scope=col>&lt;dbl&gt;</th><th scope=col>&lt;fct&gt;</th><th scope=col>&lt;fct&gt;</th><th scope=col>&lt;fct&gt;</th><th scope=col>&lt;fct&gt;</th><th scope=col>&lt;fct&gt;</th><th scope=col>⋯</th><th scope=col>&lt;dbl&gt;</th><th scope=col>&lt;dbl&gt;</th><th scope=col>&lt;dbl&gt;</th><th scope=col>&lt;dbl&gt;</th><th scope=col>&lt;dbl&gt;</th><th scope=col>&lt;dbl&gt;</th><th scope=col>&lt;dbl&gt;</th><th scope=col>&lt;dbl&gt;</th><th scope=col>&lt;dbl&gt;</th><th scope=col>&lt;fct&gt;</th></tr>\n",
       "</thead>\n",
       "<tbody>\n",
       "\t<tr><td> 20000</td><td>2</td><td>2</td><td>1</td><td>24</td><td>2 </td><td>2 </td><td>-1</td><td>-1</td><td>-2</td><td>⋯</td><td>    0</td><td>    0</td><td>    0</td><td>   0</td><td> 689</td><td>   0</td><td>   0</td><td>   0</td><td>   0</td><td>1</td></tr>\n",
       "\t<tr><td>120000</td><td>2</td><td>2</td><td>2</td><td>26</td><td>-1</td><td>2 </td><td>0 </td><td>0 </td><td>0 </td><td>⋯</td><td> 3272</td><td> 3455</td><td> 3261</td><td>   0</td><td>1000</td><td>1000</td><td>1000</td><td>   0</td><td>2000</td><td>1</td></tr>\n",
       "\t<tr><td> 70000</td><td>1</td><td>2</td><td>2</td><td>30</td><td>1 </td><td>2 </td><td>2 </td><td>0 </td><td>0 </td><td>⋯</td><td>66782</td><td>36137</td><td>36894</td><td>3200</td><td>   0</td><td>3000</td><td>3000</td><td>1500</td><td>   0</td><td>1</td></tr>\n",
       "\t<tr><td> 20000</td><td>1</td><td>1</td><td>2</td><td>24</td><td>0 </td><td>0 </td><td>2 </td><td>2 </td><td>2 </td><td>⋯</td><td>18338</td><td>17905</td><td>19104</td><td>3200</td><td>   0</td><td>1500</td><td>   0</td><td>1650</td><td>   0</td><td>1</td></tr>\n",
       "\t<tr><td>120000</td><td>2</td><td>2</td><td>1</td><td>39</td><td>-1</td><td>-1</td><td>-1</td><td>-1</td><td>-1</td><td>⋯</td><td>    0</td><td>  632</td><td>  316</td><td> 316</td><td> 316</td><td>   0</td><td> 632</td><td> 316</td><td>   0</td><td>1</td></tr>\n",
       "\t<tr><td> 70000</td><td>2</td><td>2</td><td>2</td><td>26</td><td>2 </td><td>0 </td><td>0 </td><td>2 </td><td>2 </td><td>⋯</td><td>44006</td><td>46905</td><td>46012</td><td>2007</td><td>3582</td><td>   0</td><td>3601</td><td>   0</td><td>1820</td><td>1</td></tr>\n",
       "</tbody>\n",
       "</table>\n"
      ],
      "text/latex": [
       "A tibble: 6 × 24\n",
       "\\begin{tabular}{lllllllllllllllllllll}\n",
       " LIMIT\\_BAL & SEX & EDUCATION & MARRIAGE & AGE & PAY\\_0 & PAY\\_2 & PAY\\_3 & PAY\\_4 & PAY\\_5 & ⋯ & BILL\\_AMT4 & BILL\\_AMT5 & BILL\\_AMT6 & PAY\\_AMT1 & PAY\\_AMT2 & PAY\\_AMT3 & PAY\\_AMT4 & PAY\\_AMT5 & PAY\\_AMT6 & DEFAULT\\\\\n",
       " <dbl> & <fct> & <fct> & <fct> & <dbl> & <fct> & <fct> & <fct> & <fct> & <fct> & ⋯ & <dbl> & <dbl> & <dbl> & <dbl> & <dbl> & <dbl> & <dbl> & <dbl> & <dbl> & <fct>\\\\\n",
       "\\hline\n",
       "\t  20000 & 2 & 2 & 1 & 24 & 2  & 2  & -1 & -1 & -2 & ⋯ &     0 &     0 &     0 &    0 &  689 &    0 &    0 &    0 &    0 & 1\\\\\n",
       "\t 120000 & 2 & 2 & 2 & 26 & -1 & 2  & 0  & 0  & 0  & ⋯ &  3272 &  3455 &  3261 &    0 & 1000 & 1000 & 1000 &    0 & 2000 & 1\\\\\n",
       "\t  70000 & 1 & 2 & 2 & 30 & 1  & 2  & 2  & 0  & 0  & ⋯ & 66782 & 36137 & 36894 & 3200 &    0 & 3000 & 3000 & 1500 &    0 & 1\\\\\n",
       "\t  20000 & 1 & 1 & 2 & 24 & 0  & 0  & 2  & 2  & 2  & ⋯ & 18338 & 17905 & 19104 & 3200 &    0 & 1500 &    0 & 1650 &    0 & 1\\\\\n",
       "\t 120000 & 2 & 2 & 1 & 39 & -1 & -1 & -1 & -1 & -1 & ⋯ &     0 &   632 &   316 &  316 &  316 &    0 &  632 &  316 &    0 & 1\\\\\n",
       "\t  70000 & 2 & 2 & 2 & 26 & 2  & 0  & 0  & 2  & 2  & ⋯ & 44006 & 46905 & 46012 & 2007 & 3582 &    0 & 3601 &    0 & 1820 & 1\\\\\n",
       "\\end{tabular}\n"
      ],
      "text/markdown": [
       "\n",
       "A tibble: 6 × 24\n",
       "\n",
       "| LIMIT_BAL &lt;dbl&gt; | SEX &lt;fct&gt; | EDUCATION &lt;fct&gt; | MARRIAGE &lt;fct&gt; | AGE &lt;dbl&gt; | PAY_0 &lt;fct&gt; | PAY_2 &lt;fct&gt; | PAY_3 &lt;fct&gt; | PAY_4 &lt;fct&gt; | PAY_5 &lt;fct&gt; | ⋯ ⋯ | BILL_AMT4 &lt;dbl&gt; | BILL_AMT5 &lt;dbl&gt; | BILL_AMT6 &lt;dbl&gt; | PAY_AMT1 &lt;dbl&gt; | PAY_AMT2 &lt;dbl&gt; | PAY_AMT3 &lt;dbl&gt; | PAY_AMT4 &lt;dbl&gt; | PAY_AMT5 &lt;dbl&gt; | PAY_AMT6 &lt;dbl&gt; | DEFAULT &lt;fct&gt; |\n",
       "|---|---|---|---|---|---|---|---|---|---|---|---|---|---|---|---|---|---|---|---|---|\n",
       "|  20000 | 2 | 2 | 1 | 24 | 2  | 2  | -1 | -1 | -2 | ⋯ |     0 |     0 |     0 |    0 |  689 |    0 |    0 |    0 |    0 | 1 |\n",
       "| 120000 | 2 | 2 | 2 | 26 | -1 | 2  | 0  | 0  | 0  | ⋯ |  3272 |  3455 |  3261 |    0 | 1000 | 1000 | 1000 |    0 | 2000 | 1 |\n",
       "|  70000 | 1 | 2 | 2 | 30 | 1  | 2  | 2  | 0  | 0  | ⋯ | 66782 | 36137 | 36894 | 3200 |    0 | 3000 | 3000 | 1500 |    0 | 1 |\n",
       "|  20000 | 1 | 1 | 2 | 24 | 0  | 0  | 2  | 2  | 2  | ⋯ | 18338 | 17905 | 19104 | 3200 |    0 | 1500 |    0 | 1650 |    0 | 1 |\n",
       "| 120000 | 2 | 2 | 1 | 39 | -1 | -1 | -1 | -1 | -1 | ⋯ |     0 |   632 |   316 |  316 |  316 |    0 |  632 |  316 |    0 | 1 |\n",
       "|  70000 | 2 | 2 | 2 | 26 | 2  | 0  | 0  | 2  | 2  | ⋯ | 44006 | 46905 | 46012 | 2007 | 3582 |    0 | 3601 |    0 | 1820 | 1 |\n",
       "\n"
      ],
      "text/plain": [
       "  LIMIT_BAL SEX EDUCATION MARRIAGE AGE PAY_0 PAY_2 PAY_3 PAY_4 PAY_5 ⋯\n",
       "1  20000    2   2         1        24  2     2     -1    -1    -2    ⋯\n",
       "2 120000    2   2         2        26  -1    2     0     0     0     ⋯\n",
       "3  70000    1   2         2        30  1     2     2     0     0     ⋯\n",
       "4  20000    1   1         2        24  0     0     2     2     2     ⋯\n",
       "5 120000    2   2         1        39  -1    -1    -1    -1    -1    ⋯\n",
       "6  70000    2   2         2        26  2     0     0     2     2     ⋯\n",
       "  BILL_AMT4 BILL_AMT5 BILL_AMT6 PAY_AMT1 PAY_AMT2 PAY_AMT3 PAY_AMT4 PAY_AMT5\n",
       "1     0         0         0        0      689        0        0        0    \n",
       "2  3272      3455      3261        0     1000     1000     1000        0    \n",
       "3 66782     36137     36894     3200        0     3000     3000     1500    \n",
       "4 18338     17905     19104     3200        0     1500        0     1650    \n",
       "5     0       632       316      316      316        0      632      316    \n",
       "6 44006     46905     46012     2007     3582        0     3601        0    \n",
       "  PAY_AMT6 DEFAULT\n",
       "1    0     1      \n",
       "2 2000     1      \n",
       "3    0     1      \n",
       "4    0     1      \n",
       "5    0     1      \n",
       "6 1820     1      "
      ]
     },
     "metadata": {},
     "output_type": "display_data"
    },
    {
     "data": {
      "text/html": [
       "<table class=\"dataframe\">\n",
       "<caption>A tibble: 6 × 24</caption>\n",
       "<thead>\n",
       "\t<tr><th scope=col>LIMIT_BAL</th><th scope=col>SEX</th><th scope=col>EDUCATION</th><th scope=col>MARRIAGE</th><th scope=col>AGE</th><th scope=col>PAY_0</th><th scope=col>PAY_2</th><th scope=col>PAY_3</th><th scope=col>PAY_4</th><th scope=col>PAY_5</th><th scope=col>⋯</th><th scope=col>BILL_AMT4</th><th scope=col>BILL_AMT5</th><th scope=col>BILL_AMT6</th><th scope=col>PAY_AMT1</th><th scope=col>PAY_AMT2</th><th scope=col>PAY_AMT3</th><th scope=col>PAY_AMT4</th><th scope=col>PAY_AMT5</th><th scope=col>PAY_AMT6</th><th scope=col>DEFAULT</th></tr>\n",
       "\t<tr><th scope=col>&lt;dbl&gt;</th><th scope=col>&lt;fct&gt;</th><th scope=col>&lt;fct&gt;</th><th scope=col>&lt;fct&gt;</th><th scope=col>&lt;dbl&gt;</th><th scope=col>&lt;fct&gt;</th><th scope=col>&lt;fct&gt;</th><th scope=col>&lt;fct&gt;</th><th scope=col>&lt;fct&gt;</th><th scope=col>&lt;fct&gt;</th><th scope=col>⋯</th><th scope=col>&lt;dbl&gt;</th><th scope=col>&lt;dbl&gt;</th><th scope=col>&lt;dbl&gt;</th><th scope=col>&lt;dbl&gt;</th><th scope=col>&lt;dbl&gt;</th><th scope=col>&lt;dbl&gt;</th><th scope=col>&lt;dbl&gt;</th><th scope=col>&lt;dbl&gt;</th><th scope=col>&lt;dbl&gt;</th><th scope=col>&lt;fct&gt;</th></tr>\n",
       "</thead>\n",
       "<tbody>\n",
       "\t<tr><td>9e+04</td><td>2</td><td>2</td><td>2</td><td>34</td><td>0 </td><td>0 </td><td>0 </td><td>0</td><td>0</td><td>⋯</td><td> 14331</td><td> 14948</td><td> 15549</td><td> 1518</td><td> 1500</td><td> 1000</td><td> 1000</td><td> 1000</td><td> 5000</td><td>0</td></tr>\n",
       "\t<tr><td>5e+04</td><td>2</td><td>2</td><td>1</td><td>37</td><td>0 </td><td>0 </td><td>0 </td><td>0</td><td>0</td><td>⋯</td><td> 28314</td><td> 28959</td><td> 29547</td><td> 2000</td><td> 2019</td><td> 1200</td><td> 1100</td><td> 1069</td><td> 1000</td><td>0</td></tr>\n",
       "\t<tr><td>5e+04</td><td>1</td><td>2</td><td>1</td><td>57</td><td>-1</td><td>0 </td><td>-1</td><td>0</td><td>0</td><td>⋯</td><td> 20940</td><td> 19146</td><td> 19131</td><td> 2000</td><td>36681</td><td>10000</td><td> 9000</td><td>  689</td><td>  679</td><td>0</td></tr>\n",
       "\t<tr><td>5e+04</td><td>1</td><td>1</td><td>2</td><td>37</td><td>0 </td><td>0 </td><td>0 </td><td>0</td><td>0</td><td>⋯</td><td> 19394</td><td> 19619</td><td> 20024</td><td> 2500</td><td> 1815</td><td>  657</td><td> 1000</td><td> 1000</td><td>  800</td><td>0</td></tr>\n",
       "\t<tr><td>5e+05</td><td>1</td><td>1</td><td>2</td><td>29</td><td>0 </td><td>0 </td><td>0 </td><td>0</td><td>0</td><td>⋯</td><td>542653</td><td>483003</td><td>473944</td><td>55000</td><td>40000</td><td>38000</td><td>20239</td><td>13750</td><td>13770</td><td>0</td></tr>\n",
       "\t<tr><td>1e+05</td><td>2</td><td>2</td><td>2</td><td>23</td><td>0 </td><td>-1</td><td>-1</td><td>0</td><td>0</td><td>⋯</td><td>   221</td><td>  -159</td><td>   567</td><td>  380</td><td>  601</td><td>    0</td><td>  581</td><td> 1687</td><td> 1542</td><td>0</td></tr>\n",
       "</tbody>\n",
       "</table>\n"
      ],
      "text/latex": [
       "A tibble: 6 × 24\n",
       "\\begin{tabular}{lllllllllllllllllllll}\n",
       " LIMIT\\_BAL & SEX & EDUCATION & MARRIAGE & AGE & PAY\\_0 & PAY\\_2 & PAY\\_3 & PAY\\_4 & PAY\\_5 & ⋯ & BILL\\_AMT4 & BILL\\_AMT5 & BILL\\_AMT6 & PAY\\_AMT1 & PAY\\_AMT2 & PAY\\_AMT3 & PAY\\_AMT4 & PAY\\_AMT5 & PAY\\_AMT6 & DEFAULT\\\\\n",
       " <dbl> & <fct> & <fct> & <fct> & <dbl> & <fct> & <fct> & <fct> & <fct> & <fct> & ⋯ & <dbl> & <dbl> & <dbl> & <dbl> & <dbl> & <dbl> & <dbl> & <dbl> & <dbl> & <fct>\\\\\n",
       "\\hline\n",
       "\t 9e+04 & 2 & 2 & 2 & 34 & 0  & 0  & 0  & 0 & 0 & ⋯ &  14331 &  14948 &  15549 &  1518 &  1500 &  1000 &  1000 &  1000 &  5000 & 0\\\\\n",
       "\t 5e+04 & 2 & 2 & 1 & 37 & 0  & 0  & 0  & 0 & 0 & ⋯ &  28314 &  28959 &  29547 &  2000 &  2019 &  1200 &  1100 &  1069 &  1000 & 0\\\\\n",
       "\t 5e+04 & 1 & 2 & 1 & 57 & -1 & 0  & -1 & 0 & 0 & ⋯ &  20940 &  19146 &  19131 &  2000 & 36681 & 10000 &  9000 &   689 &   679 & 0\\\\\n",
       "\t 5e+04 & 1 & 1 & 2 & 37 & 0  & 0  & 0  & 0 & 0 & ⋯ &  19394 &  19619 &  20024 &  2500 &  1815 &   657 &  1000 &  1000 &   800 & 0\\\\\n",
       "\t 5e+05 & 1 & 1 & 2 & 29 & 0  & 0  & 0  & 0 & 0 & ⋯ & 542653 & 483003 & 473944 & 55000 & 40000 & 38000 & 20239 & 13750 & 13770 & 0\\\\\n",
       "\t 1e+05 & 2 & 2 & 2 & 23 & 0  & -1 & -1 & 0 & 0 & ⋯ &    221 &   -159 &    567 &   380 &   601 &     0 &   581 &  1687 &  1542 & 0\\\\\n",
       "\\end{tabular}\n"
      ],
      "text/markdown": [
       "\n",
       "A tibble: 6 × 24\n",
       "\n",
       "| LIMIT_BAL &lt;dbl&gt; | SEX &lt;fct&gt; | EDUCATION &lt;fct&gt; | MARRIAGE &lt;fct&gt; | AGE &lt;dbl&gt; | PAY_0 &lt;fct&gt; | PAY_2 &lt;fct&gt; | PAY_3 &lt;fct&gt; | PAY_4 &lt;fct&gt; | PAY_5 &lt;fct&gt; | ⋯ ⋯ | BILL_AMT4 &lt;dbl&gt; | BILL_AMT5 &lt;dbl&gt; | BILL_AMT6 &lt;dbl&gt; | PAY_AMT1 &lt;dbl&gt; | PAY_AMT2 &lt;dbl&gt; | PAY_AMT3 &lt;dbl&gt; | PAY_AMT4 &lt;dbl&gt; | PAY_AMT5 &lt;dbl&gt; | PAY_AMT6 &lt;dbl&gt; | DEFAULT &lt;fct&gt; |\n",
       "|---|---|---|---|---|---|---|---|---|---|---|---|---|---|---|---|---|---|---|---|---|\n",
       "| 9e+04 | 2 | 2 | 2 | 34 | 0  | 0  | 0  | 0 | 0 | ⋯ |  14331 |  14948 |  15549 |  1518 |  1500 |  1000 |  1000 |  1000 |  5000 | 0 |\n",
       "| 5e+04 | 2 | 2 | 1 | 37 | 0  | 0  | 0  | 0 | 0 | ⋯ |  28314 |  28959 |  29547 |  2000 |  2019 |  1200 |  1100 |  1069 |  1000 | 0 |\n",
       "| 5e+04 | 1 | 2 | 1 | 57 | -1 | 0  | -1 | 0 | 0 | ⋯ |  20940 |  19146 |  19131 |  2000 | 36681 | 10000 |  9000 |   689 |   679 | 0 |\n",
       "| 5e+04 | 1 | 1 | 2 | 37 | 0  | 0  | 0  | 0 | 0 | ⋯ |  19394 |  19619 |  20024 |  2500 |  1815 |   657 |  1000 |  1000 |   800 | 0 |\n",
       "| 5e+05 | 1 | 1 | 2 | 29 | 0  | 0  | 0  | 0 | 0 | ⋯ | 542653 | 483003 | 473944 | 55000 | 40000 | 38000 | 20239 | 13750 | 13770 | 0 |\n",
       "| 1e+05 | 2 | 2 | 2 | 23 | 0  | -1 | -1 | 0 | 0 | ⋯ |    221 |   -159 |    567 |   380 |   601 |     0 |   581 |  1687 |  1542 | 0 |\n",
       "\n"
      ],
      "text/plain": [
       "  LIMIT_BAL SEX EDUCATION MARRIAGE AGE PAY_0 PAY_2 PAY_3 PAY_4 PAY_5 ⋯\n",
       "1 9e+04     2   2         2        34  0     0     0     0     0     ⋯\n",
       "2 5e+04     2   2         1        37  0     0     0     0     0     ⋯\n",
       "3 5e+04     1   2         1        57  -1    0     -1    0     0     ⋯\n",
       "4 5e+04     1   1         2        37  0     0     0     0     0     ⋯\n",
       "5 5e+05     1   1         2        29  0     0     0     0     0     ⋯\n",
       "6 1e+05     2   2         2        23  0     -1    -1    0     0     ⋯\n",
       "  BILL_AMT4 BILL_AMT5 BILL_AMT6 PAY_AMT1 PAY_AMT2 PAY_AMT3 PAY_AMT4 PAY_AMT5\n",
       "1  14331     14948     15549     1518     1500     1000     1000     1000   \n",
       "2  28314     28959     29547     2000     2019     1200     1100     1069   \n",
       "3  20940     19146     19131     2000    36681    10000     9000      689   \n",
       "4  19394     19619     20024     2500     1815      657     1000     1000   \n",
       "5 542653    483003    473944    55000    40000    38000    20239    13750   \n",
       "6    221      -159       567      380      601        0      581     1687   \n",
       "  PAY_AMT6 DEFAULT\n",
       "1  5000    0      \n",
       "2  1000    0      \n",
       "3   679    0      \n",
       "4   800    0      \n",
       "5 13770    0      \n",
       "6  1542    0      "
      ]
     },
     "metadata": {},
     "output_type": "display_data"
    }
   ],
   "source": [
    "head(data_default)\n",
    "head(data_no_default)"
   ]
  },
  {
   "cell_type": "code",
   "execution_count": 21,
   "id": "b73e62c6",
   "metadata": {},
   "outputs": [],
   "source": [
    "data_downsampled<-rbind(data_default_downsampled,data_no_default_downsampled)"
   ]
  },
  {
   "cell_type": "code",
   "execution_count": 22,
   "id": "04228fd4",
   "metadata": {
    "scrolled": true
   },
   "outputs": [
    {
     "data": {
      "text/html": [
       "10000"
      ],
      "text/latex": [
       "10000"
      ],
      "text/markdown": [
       "10000"
      ],
      "text/plain": [
       "[1] 10000"
      ]
     },
     "metadata": {},
     "output_type": "display_data"
    }
   ],
   "source": [
    "length(data_downsampled$DEFAULT)"
   ]
  },
  {
   "cell_type": "code",
   "execution_count": 23,
   "id": "715b0852",
   "metadata": {},
   "outputs": [
    {
     "data": {
      "text/html": [
       "<table class=\"dataframe\">\n",
       "<caption>A tibble: 6 × 24</caption>\n",
       "<thead>\n",
       "\t<tr><th scope=col>LIMIT_BAL</th><th scope=col>SEX</th><th scope=col>EDUCATION</th><th scope=col>MARRIAGE</th><th scope=col>AGE</th><th scope=col>PAY_0</th><th scope=col>PAY_2</th><th scope=col>PAY_3</th><th scope=col>PAY_4</th><th scope=col>PAY_5</th><th scope=col>⋯</th><th scope=col>BILL_AMT4</th><th scope=col>BILL_AMT5</th><th scope=col>BILL_AMT6</th><th scope=col>PAY_AMT1</th><th scope=col>PAY_AMT2</th><th scope=col>PAY_AMT3</th><th scope=col>PAY_AMT4</th><th scope=col>PAY_AMT5</th><th scope=col>PAY_AMT6</th><th scope=col>DEFAULT</th></tr>\n",
       "\t<tr><th scope=col>&lt;dbl&gt;</th><th scope=col>&lt;fct&gt;</th><th scope=col>&lt;fct&gt;</th><th scope=col>&lt;fct&gt;</th><th scope=col>&lt;dbl&gt;</th><th scope=col>&lt;fct&gt;</th><th scope=col>&lt;fct&gt;</th><th scope=col>&lt;fct&gt;</th><th scope=col>&lt;fct&gt;</th><th scope=col>&lt;fct&gt;</th><th scope=col>⋯</th><th scope=col>&lt;dbl&gt;</th><th scope=col>&lt;dbl&gt;</th><th scope=col>&lt;dbl&gt;</th><th scope=col>&lt;dbl&gt;</th><th scope=col>&lt;dbl&gt;</th><th scope=col>&lt;dbl&gt;</th><th scope=col>&lt;dbl&gt;</th><th scope=col>&lt;dbl&gt;</th><th scope=col>&lt;dbl&gt;</th><th scope=col>&lt;fct&gt;</th></tr>\n",
       "</thead>\n",
       "<tbody>\n",
       "\t<tr><td> 60000</td><td>1</td><td>1</td><td>2</td><td>30</td><td>-1</td><td>-1</td><td>-1</td><td>-1</td><td>-1</td><td>⋯</td><td>  264</td><td>  264</td><td>  264</td><td> 264</td><td> 264</td><td> 264</td><td> 264</td><td> 264</td><td>   0</td><td>1</td></tr>\n",
       "\t<tr><td>120000</td><td>1</td><td>2</td><td>1</td><td>41</td><td>-2</td><td>-2</td><td>-2</td><td>-2</td><td>-2</td><td>⋯</td><td>    0</td><td>    0</td><td>    0</td><td>   0</td><td>   0</td><td>   0</td><td>   0</td><td>   0</td><td>   0</td><td>1</td></tr>\n",
       "\t<tr><td> 30000</td><td>2</td><td>3</td><td>1</td><td>35</td><td>2 </td><td>2 </td><td>2 </td><td>2 </td><td>2 </td><td>⋯</td><td>27936</td><td>29930</td><td>29302</td><td>   0</td><td>3000</td><td>   0</td><td>2600</td><td>   0</td><td>1600</td><td>1</td></tr>\n",
       "\t<tr><td> 80000</td><td>2</td><td>2</td><td>1</td><td>25</td><td>0 </td><td>0 </td><td>0 </td><td>0 </td><td>0 </td><td>⋯</td><td>51150</td><td>43193</td><td>44230</td><td>2971</td><td>3435</td><td>1750</td><td>1593</td><td>1730</td><td>1972</td><td>1</td></tr>\n",
       "\t<tr><td> 10000</td><td>1</td><td>1</td><td>2</td><td>22</td><td>2 </td><td>2 </td><td>2 </td><td>0 </td><td>0 </td><td>⋯</td><td>10066</td><td>10017</td><td> 9705</td><td>2500</td><td>   0</td><td>1400</td><td>1100</td><td>   0</td><td> 500</td><td>1</td></tr>\n",
       "\t<tr><td> 50000</td><td>2</td><td>2</td><td>1</td><td>35</td><td>1 </td><td>2 </td><td>2 </td><td>2 </td><td>2 </td><td>⋯</td><td>10999</td><td>12311</td><td>11973</td><td>   0</td><td>3000</td><td>   0</td><td>1800</td><td>   0</td><td>1950</td><td>1</td></tr>\n",
       "</tbody>\n",
       "</table>\n"
      ],
      "text/latex": [
       "A tibble: 6 × 24\n",
       "\\begin{tabular}{lllllllllllllllllllll}\n",
       " LIMIT\\_BAL & SEX & EDUCATION & MARRIAGE & AGE & PAY\\_0 & PAY\\_2 & PAY\\_3 & PAY\\_4 & PAY\\_5 & ⋯ & BILL\\_AMT4 & BILL\\_AMT5 & BILL\\_AMT6 & PAY\\_AMT1 & PAY\\_AMT2 & PAY\\_AMT3 & PAY\\_AMT4 & PAY\\_AMT5 & PAY\\_AMT6 & DEFAULT\\\\\n",
       " <dbl> & <fct> & <fct> & <fct> & <dbl> & <fct> & <fct> & <fct> & <fct> & <fct> & ⋯ & <dbl> & <dbl> & <dbl> & <dbl> & <dbl> & <dbl> & <dbl> & <dbl> & <dbl> & <fct>\\\\\n",
       "\\hline\n",
       "\t  60000 & 1 & 1 & 2 & 30 & -1 & -1 & -1 & -1 & -1 & ⋯ &   264 &   264 &   264 &  264 &  264 &  264 &  264 &  264 &    0 & 1\\\\\n",
       "\t 120000 & 1 & 2 & 1 & 41 & -2 & -2 & -2 & -2 & -2 & ⋯ &     0 &     0 &     0 &    0 &    0 &    0 &    0 &    0 &    0 & 1\\\\\n",
       "\t  30000 & 2 & 3 & 1 & 35 & 2  & 2  & 2  & 2  & 2  & ⋯ & 27936 & 29930 & 29302 &    0 & 3000 &    0 & 2600 &    0 & 1600 & 1\\\\\n",
       "\t  80000 & 2 & 2 & 1 & 25 & 0  & 0  & 0  & 0  & 0  & ⋯ & 51150 & 43193 & 44230 & 2971 & 3435 & 1750 & 1593 & 1730 & 1972 & 1\\\\\n",
       "\t  10000 & 1 & 1 & 2 & 22 & 2  & 2  & 2  & 0  & 0  & ⋯ & 10066 & 10017 &  9705 & 2500 &    0 & 1400 & 1100 &    0 &  500 & 1\\\\\n",
       "\t  50000 & 2 & 2 & 1 & 35 & 1  & 2  & 2  & 2  & 2  & ⋯ & 10999 & 12311 & 11973 &    0 & 3000 &    0 & 1800 &    0 & 1950 & 1\\\\\n",
       "\\end{tabular}\n"
      ],
      "text/markdown": [
       "\n",
       "A tibble: 6 × 24\n",
       "\n",
       "| LIMIT_BAL &lt;dbl&gt; | SEX &lt;fct&gt; | EDUCATION &lt;fct&gt; | MARRIAGE &lt;fct&gt; | AGE &lt;dbl&gt; | PAY_0 &lt;fct&gt; | PAY_2 &lt;fct&gt; | PAY_3 &lt;fct&gt; | PAY_4 &lt;fct&gt; | PAY_5 &lt;fct&gt; | ⋯ ⋯ | BILL_AMT4 &lt;dbl&gt; | BILL_AMT5 &lt;dbl&gt; | BILL_AMT6 &lt;dbl&gt; | PAY_AMT1 &lt;dbl&gt; | PAY_AMT2 &lt;dbl&gt; | PAY_AMT3 &lt;dbl&gt; | PAY_AMT4 &lt;dbl&gt; | PAY_AMT5 &lt;dbl&gt; | PAY_AMT6 &lt;dbl&gt; | DEFAULT &lt;fct&gt; |\n",
       "|---|---|---|---|---|---|---|---|---|---|---|---|---|---|---|---|---|---|---|---|---|\n",
       "|  60000 | 1 | 1 | 2 | 30 | -1 | -1 | -1 | -1 | -1 | ⋯ |   264 |   264 |   264 |  264 |  264 |  264 |  264 |  264 |    0 | 1 |\n",
       "| 120000 | 1 | 2 | 1 | 41 | -2 | -2 | -2 | -2 | -2 | ⋯ |     0 |     0 |     0 |    0 |    0 |    0 |    0 |    0 |    0 | 1 |\n",
       "|  30000 | 2 | 3 | 1 | 35 | 2  | 2  | 2  | 2  | 2  | ⋯ | 27936 | 29930 | 29302 |    0 | 3000 |    0 | 2600 |    0 | 1600 | 1 |\n",
       "|  80000 | 2 | 2 | 1 | 25 | 0  | 0  | 0  | 0  | 0  | ⋯ | 51150 | 43193 | 44230 | 2971 | 3435 | 1750 | 1593 | 1730 | 1972 | 1 |\n",
       "|  10000 | 1 | 1 | 2 | 22 | 2  | 2  | 2  | 0  | 0  | ⋯ | 10066 | 10017 |  9705 | 2500 |    0 | 1400 | 1100 |    0 |  500 | 1 |\n",
       "|  50000 | 2 | 2 | 1 | 35 | 1  | 2  | 2  | 2  | 2  | ⋯ | 10999 | 12311 | 11973 |    0 | 3000 |    0 | 1800 |    0 | 1950 | 1 |\n",
       "\n"
      ],
      "text/plain": [
       "  LIMIT_BAL SEX EDUCATION MARRIAGE AGE PAY_0 PAY_2 PAY_3 PAY_4 PAY_5 ⋯\n",
       "1  60000    1   1         2        30  -1    -1    -1    -1    -1    ⋯\n",
       "2 120000    1   2         1        41  -2    -2    -2    -2    -2    ⋯\n",
       "3  30000    2   3         1        35  2     2     2     2     2     ⋯\n",
       "4  80000    2   2         1        25  0     0     0     0     0     ⋯\n",
       "5  10000    1   1         2        22  2     2     2     0     0     ⋯\n",
       "6  50000    2   2         1        35  1     2     2     2     2     ⋯\n",
       "  BILL_AMT4 BILL_AMT5 BILL_AMT6 PAY_AMT1 PAY_AMT2 PAY_AMT3 PAY_AMT4 PAY_AMT5\n",
       "1   264       264       264      264      264      264      264      264    \n",
       "2     0         0         0        0        0        0        0        0    \n",
       "3 27936     29930     29302        0     3000        0     2600        0    \n",
       "4 51150     43193     44230     2971     3435     1750     1593     1730    \n",
       "5 10066     10017      9705     2500        0     1400     1100        0    \n",
       "6 10999     12311     11973        0     3000        0     1800        0    \n",
       "  PAY_AMT6 DEFAULT\n",
       "1    0     1      \n",
       "2    0     1      \n",
       "3 1600     1      \n",
       "4 1972     1      \n",
       "5  500     1      \n",
       "6 1950     1      "
      ]
     },
     "metadata": {},
     "output_type": "display_data"
    }
   ],
   "source": [
    "head(data_downsampled)"
   ]
  },
  {
   "cell_type": "code",
   "execution_count": 24,
   "id": "71055505",
   "metadata": {},
   "outputs": [],
   "source": [
    "#Randomly mixing the dataframe\n",
    "set.seed(1)\n",
    "data_downsampled<- data_downsampled %>% slice_sample(n = 10000) "
   ]
  },
  {
   "cell_type": "code",
   "execution_count": 25,
   "id": "48f60a48",
   "metadata": {},
   "outputs": [
    {
     "data": {
      "text/html": [
       "<table class=\"dataframe\">\n",
       "<caption>A tibble: 6 × 24</caption>\n",
       "<thead>\n",
       "\t<tr><th scope=col>LIMIT_BAL</th><th scope=col>SEX</th><th scope=col>EDUCATION</th><th scope=col>MARRIAGE</th><th scope=col>AGE</th><th scope=col>PAY_0</th><th scope=col>PAY_2</th><th scope=col>PAY_3</th><th scope=col>PAY_4</th><th scope=col>PAY_5</th><th scope=col>⋯</th><th scope=col>BILL_AMT4</th><th scope=col>BILL_AMT5</th><th scope=col>BILL_AMT6</th><th scope=col>PAY_AMT1</th><th scope=col>PAY_AMT2</th><th scope=col>PAY_AMT3</th><th scope=col>PAY_AMT4</th><th scope=col>PAY_AMT5</th><th scope=col>PAY_AMT6</th><th scope=col>DEFAULT</th></tr>\n",
       "\t<tr><th scope=col>&lt;dbl&gt;</th><th scope=col>&lt;fct&gt;</th><th scope=col>&lt;fct&gt;</th><th scope=col>&lt;fct&gt;</th><th scope=col>&lt;dbl&gt;</th><th scope=col>&lt;fct&gt;</th><th scope=col>&lt;fct&gt;</th><th scope=col>&lt;fct&gt;</th><th scope=col>&lt;fct&gt;</th><th scope=col>&lt;fct&gt;</th><th scope=col>⋯</th><th scope=col>&lt;dbl&gt;</th><th scope=col>&lt;dbl&gt;</th><th scope=col>&lt;dbl&gt;</th><th scope=col>&lt;dbl&gt;</th><th scope=col>&lt;dbl&gt;</th><th scope=col>&lt;dbl&gt;</th><th scope=col>&lt;dbl&gt;</th><th scope=col>&lt;dbl&gt;</th><th scope=col>&lt;dbl&gt;</th><th scope=col>&lt;fct&gt;</th></tr>\n",
       "</thead>\n",
       "<tbody>\n",
       "\t<tr><td>360000</td><td>2</td><td>3</td><td>1</td><td>47</td><td>-2</td><td>-2</td><td>-2</td><td>-2</td><td>-2</td><td>⋯</td><td>    0</td><td>    0</td><td> 7429</td><td>   0</td><td>3998</td><td>   0</td><td>   0</td><td>7429</td><td> 490</td><td>1</td></tr>\n",
       "\t<tr><td>250000</td><td>2</td><td>2</td><td>2</td><td>40</td><td>-2</td><td>-2</td><td>-2</td><td>-2</td><td>-2</td><td>⋯</td><td> -320</td><td> 1680</td><td> 4058</td><td>1069</td><td> 320</td><td>   0</td><td>2000</td><td>4058</td><td>3000</td><td>0</td></tr>\n",
       "\t<tr><td>360000</td><td>2</td><td>1</td><td>2</td><td>29</td><td>-1</td><td>-1</td><td>-2</td><td>-2</td><td>-2</td><td>⋯</td><td>    0</td><td>    0</td><td>  629</td><td>   0</td><td>   0</td><td>   0</td><td>   0</td><td> 629</td><td>2475</td><td>1</td></tr>\n",
       "\t<tr><td>420000</td><td>2</td><td>2</td><td>2</td><td>37</td><td>0 </td><td>0 </td><td>0 </td><td>0 </td><td>0 </td><td>⋯</td><td>18801</td><td>20328</td><td>25065</td><td>1800</td><td>1608</td><td>1700</td><td>2500</td><td>5065</td><td>1500</td><td>0</td></tr>\n",
       "\t<tr><td>200000</td><td>2</td><td>1</td><td>1</td><td>29</td><td>-1</td><td>-1</td><td>-1</td><td>-1</td><td>-1</td><td>⋯</td><td> 3043</td><td> 1542</td><td>    0</td><td>2215</td><td>2451</td><td>3043</td><td>1542</td><td>   0</td><td>   0</td><td>0</td></tr>\n",
       "\t<tr><td>150000</td><td>1</td><td>2</td><td>1</td><td>55</td><td>1 </td><td>2 </td><td>2 </td><td>0 </td><td>0 </td><td>⋯</td><td>77688</td><td>79440</td><td>81126</td><td>3800</td><td>   0</td><td>2800</td><td>3000</td><td>3000</td><td>3200</td><td>1</td></tr>\n",
       "</tbody>\n",
       "</table>\n"
      ],
      "text/latex": [
       "A tibble: 6 × 24\n",
       "\\begin{tabular}{lllllllllllllllllllll}\n",
       " LIMIT\\_BAL & SEX & EDUCATION & MARRIAGE & AGE & PAY\\_0 & PAY\\_2 & PAY\\_3 & PAY\\_4 & PAY\\_5 & ⋯ & BILL\\_AMT4 & BILL\\_AMT5 & BILL\\_AMT6 & PAY\\_AMT1 & PAY\\_AMT2 & PAY\\_AMT3 & PAY\\_AMT4 & PAY\\_AMT5 & PAY\\_AMT6 & DEFAULT\\\\\n",
       " <dbl> & <fct> & <fct> & <fct> & <dbl> & <fct> & <fct> & <fct> & <fct> & <fct> & ⋯ & <dbl> & <dbl> & <dbl> & <dbl> & <dbl> & <dbl> & <dbl> & <dbl> & <dbl> & <fct>\\\\\n",
       "\\hline\n",
       "\t 360000 & 2 & 3 & 1 & 47 & -2 & -2 & -2 & -2 & -2 & ⋯ &     0 &     0 &  7429 &    0 & 3998 &    0 &    0 & 7429 &  490 & 1\\\\\n",
       "\t 250000 & 2 & 2 & 2 & 40 & -2 & -2 & -2 & -2 & -2 & ⋯ &  -320 &  1680 &  4058 & 1069 &  320 &    0 & 2000 & 4058 & 3000 & 0\\\\\n",
       "\t 360000 & 2 & 1 & 2 & 29 & -1 & -1 & -2 & -2 & -2 & ⋯ &     0 &     0 &   629 &    0 &    0 &    0 &    0 &  629 & 2475 & 1\\\\\n",
       "\t 420000 & 2 & 2 & 2 & 37 & 0  & 0  & 0  & 0  & 0  & ⋯ & 18801 & 20328 & 25065 & 1800 & 1608 & 1700 & 2500 & 5065 & 1500 & 0\\\\\n",
       "\t 200000 & 2 & 1 & 1 & 29 & -1 & -1 & -1 & -1 & -1 & ⋯ &  3043 &  1542 &     0 & 2215 & 2451 & 3043 & 1542 &    0 &    0 & 0\\\\\n",
       "\t 150000 & 1 & 2 & 1 & 55 & 1  & 2  & 2  & 0  & 0  & ⋯ & 77688 & 79440 & 81126 & 3800 &    0 & 2800 & 3000 & 3000 & 3200 & 1\\\\\n",
       "\\end{tabular}\n"
      ],
      "text/markdown": [
       "\n",
       "A tibble: 6 × 24\n",
       "\n",
       "| LIMIT_BAL &lt;dbl&gt; | SEX &lt;fct&gt; | EDUCATION &lt;fct&gt; | MARRIAGE &lt;fct&gt; | AGE &lt;dbl&gt; | PAY_0 &lt;fct&gt; | PAY_2 &lt;fct&gt; | PAY_3 &lt;fct&gt; | PAY_4 &lt;fct&gt; | PAY_5 &lt;fct&gt; | ⋯ ⋯ | BILL_AMT4 &lt;dbl&gt; | BILL_AMT5 &lt;dbl&gt; | BILL_AMT6 &lt;dbl&gt; | PAY_AMT1 &lt;dbl&gt; | PAY_AMT2 &lt;dbl&gt; | PAY_AMT3 &lt;dbl&gt; | PAY_AMT4 &lt;dbl&gt; | PAY_AMT5 &lt;dbl&gt; | PAY_AMT6 &lt;dbl&gt; | DEFAULT &lt;fct&gt; |\n",
       "|---|---|---|---|---|---|---|---|---|---|---|---|---|---|---|---|---|---|---|---|---|\n",
       "| 360000 | 2 | 3 | 1 | 47 | -2 | -2 | -2 | -2 | -2 | ⋯ |     0 |     0 |  7429 |    0 | 3998 |    0 |    0 | 7429 |  490 | 1 |\n",
       "| 250000 | 2 | 2 | 2 | 40 | -2 | -2 | -2 | -2 | -2 | ⋯ |  -320 |  1680 |  4058 | 1069 |  320 |    0 | 2000 | 4058 | 3000 | 0 |\n",
       "| 360000 | 2 | 1 | 2 | 29 | -1 | -1 | -2 | -2 | -2 | ⋯ |     0 |     0 |   629 |    0 |    0 |    0 |    0 |  629 | 2475 | 1 |\n",
       "| 420000 | 2 | 2 | 2 | 37 | 0  | 0  | 0  | 0  | 0  | ⋯ | 18801 | 20328 | 25065 | 1800 | 1608 | 1700 | 2500 | 5065 | 1500 | 0 |\n",
       "| 200000 | 2 | 1 | 1 | 29 | -1 | -1 | -1 | -1 | -1 | ⋯ |  3043 |  1542 |     0 | 2215 | 2451 | 3043 | 1542 |    0 |    0 | 0 |\n",
       "| 150000 | 1 | 2 | 1 | 55 | 1  | 2  | 2  | 0  | 0  | ⋯ | 77688 | 79440 | 81126 | 3800 |    0 | 2800 | 3000 | 3000 | 3200 | 1 |\n",
       "\n"
      ],
      "text/plain": [
       "  LIMIT_BAL SEX EDUCATION MARRIAGE AGE PAY_0 PAY_2 PAY_3 PAY_4 PAY_5 ⋯\n",
       "1 360000    2   3         1        47  -2    -2    -2    -2    -2    ⋯\n",
       "2 250000    2   2         2        40  -2    -2    -2    -2    -2    ⋯\n",
       "3 360000    2   1         2        29  -1    -1    -2    -2    -2    ⋯\n",
       "4 420000    2   2         2        37  0     0     0     0     0     ⋯\n",
       "5 200000    2   1         1        29  -1    -1    -1    -1    -1    ⋯\n",
       "6 150000    1   2         1        55  1     2     2     0     0     ⋯\n",
       "  BILL_AMT4 BILL_AMT5 BILL_AMT6 PAY_AMT1 PAY_AMT2 PAY_AMT3 PAY_AMT4 PAY_AMT5\n",
       "1     0         0      7429        0     3998        0        0     7429    \n",
       "2  -320      1680      4058     1069      320        0     2000     4058    \n",
       "3     0         0       629        0        0        0        0      629    \n",
       "4 18801     20328     25065     1800     1608     1700     2500     5065    \n",
       "5  3043      1542         0     2215     2451     3043     1542        0    \n",
       "6 77688     79440     81126     3800        0     2800     3000     3000    \n",
       "  PAY_AMT6 DEFAULT\n",
       "1  490     1      \n",
       "2 3000     0      \n",
       "3 2475     1      \n",
       "4 1500     0      \n",
       "5    0     0      \n",
       "6 3200     1      "
      ]
     },
     "metadata": {},
     "output_type": "display_data"
    }
   ],
   "source": [
    "head(data_downsampled)"
   ]
  },
  {
   "cell_type": "code",
   "execution_count": 26,
   "id": "2b7e444d",
   "metadata": {},
   "outputs": [],
   "source": [
    "#Splitting into training and testing\n",
    "set.seed(1)\n",
    "index = sample.split(Y = data_downsampled$DEFAULT, SplitRatio = 0.7)\n",
    "\n",
    "#subsetting into Train data\n",
    "data_downsampled_train = data_downsampled[index,]\n",
    "\n",
    "#subsetting into Test data\n",
    "data_downsampled_test = data_downsampled[!index,]"
   ]
  },
  {
   "cell_type": "code",
   "execution_count": 27,
   "id": "7869ecbe",
   "metadata": {
    "scrolled": true
   },
   "outputs": [
    {
     "data": {
      "text/plain": [
       "\n",
       "   0    1 \n",
       "3500 3500 "
      ]
     },
     "metadata": {},
     "output_type": "display_data"
    },
    {
     "data": {
      "text/plain": [
       "\n",
       "   0    1 \n",
       "1500 1500 "
      ]
     },
     "metadata": {},
     "output_type": "display_data"
    }
   ],
   "source": [
    "table(data_downsampled_train$DEFAULT)\n",
    "table(data_downsampled_test$DEFAULT)\n",
    "#A balanced train and test dataset"
   ]
  },
  {
   "cell_type": "code",
   "execution_count": 28,
   "id": "eadde0ed",
   "metadata": {
    "scrolled": true
   },
   "outputs": [
    {
     "data": {
      "text/html": [
       "<table class=\"dataframe\">\n",
       "<caption>A tibble: 6 × 24</caption>\n",
       "<thead>\n",
       "\t<tr><th scope=col>LIMIT_BAL</th><th scope=col>SEX</th><th scope=col>EDUCATION</th><th scope=col>MARRIAGE</th><th scope=col>AGE</th><th scope=col>PAY_0</th><th scope=col>PAY_2</th><th scope=col>PAY_3</th><th scope=col>PAY_4</th><th scope=col>PAY_5</th><th scope=col>⋯</th><th scope=col>BILL_AMT4</th><th scope=col>BILL_AMT5</th><th scope=col>BILL_AMT6</th><th scope=col>PAY_AMT1</th><th scope=col>PAY_AMT2</th><th scope=col>PAY_AMT3</th><th scope=col>PAY_AMT4</th><th scope=col>PAY_AMT5</th><th scope=col>PAY_AMT6</th><th scope=col>DEFAULT</th></tr>\n",
       "\t<tr><th scope=col>&lt;dbl&gt;</th><th scope=col>&lt;fct&gt;</th><th scope=col>&lt;fct&gt;</th><th scope=col>&lt;fct&gt;</th><th scope=col>&lt;dbl&gt;</th><th scope=col>&lt;fct&gt;</th><th scope=col>&lt;fct&gt;</th><th scope=col>&lt;fct&gt;</th><th scope=col>&lt;fct&gt;</th><th scope=col>&lt;fct&gt;</th><th scope=col>⋯</th><th scope=col>&lt;dbl&gt;</th><th scope=col>&lt;dbl&gt;</th><th scope=col>&lt;dbl&gt;</th><th scope=col>&lt;dbl&gt;</th><th scope=col>&lt;dbl&gt;</th><th scope=col>&lt;dbl&gt;</th><th scope=col>&lt;dbl&gt;</th><th scope=col>&lt;dbl&gt;</th><th scope=col>&lt;dbl&gt;</th><th scope=col>&lt;fct&gt;</th></tr>\n",
       "</thead>\n",
       "<tbody>\n",
       "\t<tr><td>360000</td><td>2</td><td>3</td><td>1</td><td>47</td><td>-2</td><td>-2</td><td>-2</td><td>-2</td><td>-2</td><td>⋯</td><td>    0</td><td>    0</td><td> 7429</td><td>   0</td><td>3998</td><td>   0</td><td>   0</td><td>7429</td><td> 490</td><td>1</td></tr>\n",
       "\t<tr><td>250000</td><td>2</td><td>2</td><td>2</td><td>40</td><td>-2</td><td>-2</td><td>-2</td><td>-2</td><td>-2</td><td>⋯</td><td> -320</td><td> 1680</td><td> 4058</td><td>1069</td><td> 320</td><td>   0</td><td>2000</td><td>4058</td><td>3000</td><td>0</td></tr>\n",
       "\t<tr><td>360000</td><td>2</td><td>1</td><td>2</td><td>29</td><td>-1</td><td>-1</td><td>-2</td><td>-2</td><td>-2</td><td>⋯</td><td>    0</td><td>    0</td><td>  629</td><td>   0</td><td>   0</td><td>   0</td><td>   0</td><td> 629</td><td>2475</td><td>1</td></tr>\n",
       "\t<tr><td>420000</td><td>2</td><td>2</td><td>2</td><td>37</td><td>0 </td><td>0 </td><td>0 </td><td>0 </td><td>0 </td><td>⋯</td><td>18801</td><td>20328</td><td>25065</td><td>1800</td><td>1608</td><td>1700</td><td>2500</td><td>5065</td><td>1500</td><td>0</td></tr>\n",
       "\t<tr><td>200000</td><td>2</td><td>1</td><td>1</td><td>29</td><td>-1</td><td>-1</td><td>-1</td><td>-1</td><td>-1</td><td>⋯</td><td> 3043</td><td> 1542</td><td>    0</td><td>2215</td><td>2451</td><td>3043</td><td>1542</td><td>   0</td><td>   0</td><td>0</td></tr>\n",
       "\t<tr><td>150000</td><td>1</td><td>2</td><td>1</td><td>55</td><td>1 </td><td>2 </td><td>2 </td><td>0 </td><td>0 </td><td>⋯</td><td>77688</td><td>79440</td><td>81126</td><td>3800</td><td>   0</td><td>2800</td><td>3000</td><td>3000</td><td>3200</td><td>1</td></tr>\n",
       "</tbody>\n",
       "</table>\n"
      ],
      "text/latex": [
       "A tibble: 6 × 24\n",
       "\\begin{tabular}{lllllllllllllllllllll}\n",
       " LIMIT\\_BAL & SEX & EDUCATION & MARRIAGE & AGE & PAY\\_0 & PAY\\_2 & PAY\\_3 & PAY\\_4 & PAY\\_5 & ⋯ & BILL\\_AMT4 & BILL\\_AMT5 & BILL\\_AMT6 & PAY\\_AMT1 & PAY\\_AMT2 & PAY\\_AMT3 & PAY\\_AMT4 & PAY\\_AMT5 & PAY\\_AMT6 & DEFAULT\\\\\n",
       " <dbl> & <fct> & <fct> & <fct> & <dbl> & <fct> & <fct> & <fct> & <fct> & <fct> & ⋯ & <dbl> & <dbl> & <dbl> & <dbl> & <dbl> & <dbl> & <dbl> & <dbl> & <dbl> & <fct>\\\\\n",
       "\\hline\n",
       "\t 360000 & 2 & 3 & 1 & 47 & -2 & -2 & -2 & -2 & -2 & ⋯ &     0 &     0 &  7429 &    0 & 3998 &    0 &    0 & 7429 &  490 & 1\\\\\n",
       "\t 250000 & 2 & 2 & 2 & 40 & -2 & -2 & -2 & -2 & -2 & ⋯ &  -320 &  1680 &  4058 & 1069 &  320 &    0 & 2000 & 4058 & 3000 & 0\\\\\n",
       "\t 360000 & 2 & 1 & 2 & 29 & -1 & -1 & -2 & -2 & -2 & ⋯ &     0 &     0 &   629 &    0 &    0 &    0 &    0 &  629 & 2475 & 1\\\\\n",
       "\t 420000 & 2 & 2 & 2 & 37 & 0  & 0  & 0  & 0  & 0  & ⋯ & 18801 & 20328 & 25065 & 1800 & 1608 & 1700 & 2500 & 5065 & 1500 & 0\\\\\n",
       "\t 200000 & 2 & 1 & 1 & 29 & -1 & -1 & -1 & -1 & -1 & ⋯ &  3043 &  1542 &     0 & 2215 & 2451 & 3043 & 1542 &    0 &    0 & 0\\\\\n",
       "\t 150000 & 1 & 2 & 1 & 55 & 1  & 2  & 2  & 0  & 0  & ⋯ & 77688 & 79440 & 81126 & 3800 &    0 & 2800 & 3000 & 3000 & 3200 & 1\\\\\n",
       "\\end{tabular}\n"
      ],
      "text/markdown": [
       "\n",
       "A tibble: 6 × 24\n",
       "\n",
       "| LIMIT_BAL &lt;dbl&gt; | SEX &lt;fct&gt; | EDUCATION &lt;fct&gt; | MARRIAGE &lt;fct&gt; | AGE &lt;dbl&gt; | PAY_0 &lt;fct&gt; | PAY_2 &lt;fct&gt; | PAY_3 &lt;fct&gt; | PAY_4 &lt;fct&gt; | PAY_5 &lt;fct&gt; | ⋯ ⋯ | BILL_AMT4 &lt;dbl&gt; | BILL_AMT5 &lt;dbl&gt; | BILL_AMT6 &lt;dbl&gt; | PAY_AMT1 &lt;dbl&gt; | PAY_AMT2 &lt;dbl&gt; | PAY_AMT3 &lt;dbl&gt; | PAY_AMT4 &lt;dbl&gt; | PAY_AMT5 &lt;dbl&gt; | PAY_AMT6 &lt;dbl&gt; | DEFAULT &lt;fct&gt; |\n",
       "|---|---|---|---|---|---|---|---|---|---|---|---|---|---|---|---|---|---|---|---|---|\n",
       "| 360000 | 2 | 3 | 1 | 47 | -2 | -2 | -2 | -2 | -2 | ⋯ |     0 |     0 |  7429 |    0 | 3998 |    0 |    0 | 7429 |  490 | 1 |\n",
       "| 250000 | 2 | 2 | 2 | 40 | -2 | -2 | -2 | -2 | -2 | ⋯ |  -320 |  1680 |  4058 | 1069 |  320 |    0 | 2000 | 4058 | 3000 | 0 |\n",
       "| 360000 | 2 | 1 | 2 | 29 | -1 | -1 | -2 | -2 | -2 | ⋯ |     0 |     0 |   629 |    0 |    0 |    0 |    0 |  629 | 2475 | 1 |\n",
       "| 420000 | 2 | 2 | 2 | 37 | 0  | 0  | 0  | 0  | 0  | ⋯ | 18801 | 20328 | 25065 | 1800 | 1608 | 1700 | 2500 | 5065 | 1500 | 0 |\n",
       "| 200000 | 2 | 1 | 1 | 29 | -1 | -1 | -1 | -1 | -1 | ⋯ |  3043 |  1542 |     0 | 2215 | 2451 | 3043 | 1542 |    0 |    0 | 0 |\n",
       "| 150000 | 1 | 2 | 1 | 55 | 1  | 2  | 2  | 0  | 0  | ⋯ | 77688 | 79440 | 81126 | 3800 |    0 | 2800 | 3000 | 3000 | 3200 | 1 |\n",
       "\n"
      ],
      "text/plain": [
       "  LIMIT_BAL SEX EDUCATION MARRIAGE AGE PAY_0 PAY_2 PAY_3 PAY_4 PAY_5 ⋯\n",
       "1 360000    2   3         1        47  -2    -2    -2    -2    -2    ⋯\n",
       "2 250000    2   2         2        40  -2    -2    -2    -2    -2    ⋯\n",
       "3 360000    2   1         2        29  -1    -1    -2    -2    -2    ⋯\n",
       "4 420000    2   2         2        37  0     0     0     0     0     ⋯\n",
       "5 200000    2   1         1        29  -1    -1    -1    -1    -1    ⋯\n",
       "6 150000    1   2         1        55  1     2     2     0     0     ⋯\n",
       "  BILL_AMT4 BILL_AMT5 BILL_AMT6 PAY_AMT1 PAY_AMT2 PAY_AMT3 PAY_AMT4 PAY_AMT5\n",
       "1     0         0      7429        0     3998        0        0     7429    \n",
       "2  -320      1680      4058     1069      320        0     2000     4058    \n",
       "3     0         0       629        0        0        0        0      629    \n",
       "4 18801     20328     25065     1800     1608     1700     2500     5065    \n",
       "5  3043      1542         0     2215     2451     3043     1542        0    \n",
       "6 77688     79440     81126     3800        0     2800     3000     3000    \n",
       "  PAY_AMT6 DEFAULT\n",
       "1  490     1      \n",
       "2 3000     0      \n",
       "3 2475     1      \n",
       "4 1500     0      \n",
       "5    0     0      \n",
       "6 3200     1      "
      ]
     },
     "metadata": {},
     "output_type": "display_data"
    }
   ],
   "source": [
    "head(data_downsampled_train)"
   ]
  },
  {
   "cell_type": "code",
   "execution_count": 29,
   "id": "4e92cba1",
   "metadata": {},
   "outputs": [
    {
     "data": {
      "text/html": [
       "<table class=\"dataframe\">\n",
       "<caption>A tibble: 6 × 24</caption>\n",
       "<thead>\n",
       "\t<tr><th scope=col>LIMIT_BAL</th><th scope=col>SEX</th><th scope=col>EDUCATION</th><th scope=col>MARRIAGE</th><th scope=col>AGE</th><th scope=col>PAY_0</th><th scope=col>PAY_2</th><th scope=col>PAY_3</th><th scope=col>PAY_4</th><th scope=col>PAY_5</th><th scope=col>⋯</th><th scope=col>BILL_AMT4</th><th scope=col>BILL_AMT5</th><th scope=col>BILL_AMT6</th><th scope=col>PAY_AMT1</th><th scope=col>PAY_AMT2</th><th scope=col>PAY_AMT3</th><th scope=col>PAY_AMT4</th><th scope=col>PAY_AMT5</th><th scope=col>PAY_AMT6</th><th scope=col>DEFAULT</th></tr>\n",
       "\t<tr><th scope=col>&lt;dbl&gt;</th><th scope=col>&lt;fct&gt;</th><th scope=col>&lt;fct&gt;</th><th scope=col>&lt;fct&gt;</th><th scope=col>&lt;dbl&gt;</th><th scope=col>&lt;fct&gt;</th><th scope=col>&lt;fct&gt;</th><th scope=col>&lt;fct&gt;</th><th scope=col>&lt;fct&gt;</th><th scope=col>&lt;fct&gt;</th><th scope=col>⋯</th><th scope=col>&lt;dbl&gt;</th><th scope=col>&lt;dbl&gt;</th><th scope=col>&lt;dbl&gt;</th><th scope=col>&lt;dbl&gt;</th><th scope=col>&lt;dbl&gt;</th><th scope=col>&lt;dbl&gt;</th><th scope=col>&lt;dbl&gt;</th><th scope=col>&lt;dbl&gt;</th><th scope=col>&lt;dbl&gt;</th><th scope=col>&lt;fct&gt;</th></tr>\n",
       "</thead>\n",
       "<tbody>\n",
       "\t<tr><td>340000</td><td>2</td><td>3</td><td>2</td><td>28</td><td>0 </td><td>0 </td><td>0 </td><td>0 </td><td>0 </td><td>⋯</td><td>12519</td><td>15299</td><td>15905</td><td>3000</td><td> 3000</td><td>5000</td><td>3000</td><td>1000</td><td>10000</td><td>0</td></tr>\n",
       "\t<tr><td>250000</td><td>2</td><td>2</td><td>1</td><td>29</td><td>-1</td><td>-1</td><td>-1</td><td>0 </td><td>0 </td><td>⋯</td><td>32699</td><td>32949</td><td>34150</td><td>   0</td><td>49140</td><td>1596</td><td>5000</td><td>2000</td><td> 1800</td><td>1</td></tr>\n",
       "\t<tr><td>140000</td><td>2</td><td>2</td><td>2</td><td>27</td><td>-1</td><td>-1</td><td>-1</td><td>-1</td><td>-1</td><td>⋯</td><td>  390</td><td> 6580</td><td>    0</td><td>4000</td><td>  390</td><td> 390</td><td>6580</td><td>   0</td><td>  780</td><td>0</td></tr>\n",
       "\t<tr><td>150000</td><td>2</td><td>2</td><td>1</td><td>30</td><td>-1</td><td>-1</td><td>2 </td><td>-1</td><td>-1</td><td>⋯</td><td>  696</td><td>  873</td><td> 1392</td><td>1392</td><td>    0</td><td> 696</td><td> 873</td><td>1392</td><td>  696</td><td>1</td></tr>\n",
       "\t<tr><td> 20000</td><td>1</td><td>1</td><td>2</td><td>27</td><td>1 </td><td>2 </td><td>3 </td><td>2 </td><td>3 </td><td>⋯</td><td> 7496</td><td> 7231</td><td> 7269</td><td>3000</td><td>    0</td><td> 800</td><td>   0</td><td> 300</td><td>    0</td><td>1</td></tr>\n",
       "\t<tr><td> 30000</td><td>1</td><td>1</td><td>2</td><td>32</td><td>0 </td><td>0 </td><td>2 </td><td>0 </td><td>0 </td><td>⋯</td><td>28839</td><td>29375</td><td>32729</td><td>3600</td><td>    0</td><td>1500</td><td>1300</td><td>4000</td><td>    0</td><td>0</td></tr>\n",
       "</tbody>\n",
       "</table>\n"
      ],
      "text/latex": [
       "A tibble: 6 × 24\n",
       "\\begin{tabular}{lllllllllllllllllllll}\n",
       " LIMIT\\_BAL & SEX & EDUCATION & MARRIAGE & AGE & PAY\\_0 & PAY\\_2 & PAY\\_3 & PAY\\_4 & PAY\\_5 & ⋯ & BILL\\_AMT4 & BILL\\_AMT5 & BILL\\_AMT6 & PAY\\_AMT1 & PAY\\_AMT2 & PAY\\_AMT3 & PAY\\_AMT4 & PAY\\_AMT5 & PAY\\_AMT6 & DEFAULT\\\\\n",
       " <dbl> & <fct> & <fct> & <fct> & <dbl> & <fct> & <fct> & <fct> & <fct> & <fct> & ⋯ & <dbl> & <dbl> & <dbl> & <dbl> & <dbl> & <dbl> & <dbl> & <dbl> & <dbl> & <fct>\\\\\n",
       "\\hline\n",
       "\t 340000 & 2 & 3 & 2 & 28 & 0  & 0  & 0  & 0  & 0  & ⋯ & 12519 & 15299 & 15905 & 3000 &  3000 & 5000 & 3000 & 1000 & 10000 & 0\\\\\n",
       "\t 250000 & 2 & 2 & 1 & 29 & -1 & -1 & -1 & 0  & 0  & ⋯ & 32699 & 32949 & 34150 &    0 & 49140 & 1596 & 5000 & 2000 &  1800 & 1\\\\\n",
       "\t 140000 & 2 & 2 & 2 & 27 & -1 & -1 & -1 & -1 & -1 & ⋯ &   390 &  6580 &     0 & 4000 &   390 &  390 & 6580 &    0 &   780 & 0\\\\\n",
       "\t 150000 & 2 & 2 & 1 & 30 & -1 & -1 & 2  & -1 & -1 & ⋯ &   696 &   873 &  1392 & 1392 &     0 &  696 &  873 & 1392 &   696 & 1\\\\\n",
       "\t  20000 & 1 & 1 & 2 & 27 & 1  & 2  & 3  & 2  & 3  & ⋯ &  7496 &  7231 &  7269 & 3000 &     0 &  800 &    0 &  300 &     0 & 1\\\\\n",
       "\t  30000 & 1 & 1 & 2 & 32 & 0  & 0  & 2  & 0  & 0  & ⋯ & 28839 & 29375 & 32729 & 3600 &     0 & 1500 & 1300 & 4000 &     0 & 0\\\\\n",
       "\\end{tabular}\n"
      ],
      "text/markdown": [
       "\n",
       "A tibble: 6 × 24\n",
       "\n",
       "| LIMIT_BAL &lt;dbl&gt; | SEX &lt;fct&gt; | EDUCATION &lt;fct&gt; | MARRIAGE &lt;fct&gt; | AGE &lt;dbl&gt; | PAY_0 &lt;fct&gt; | PAY_2 &lt;fct&gt; | PAY_3 &lt;fct&gt; | PAY_4 &lt;fct&gt; | PAY_5 &lt;fct&gt; | ⋯ ⋯ | BILL_AMT4 &lt;dbl&gt; | BILL_AMT5 &lt;dbl&gt; | BILL_AMT6 &lt;dbl&gt; | PAY_AMT1 &lt;dbl&gt; | PAY_AMT2 &lt;dbl&gt; | PAY_AMT3 &lt;dbl&gt; | PAY_AMT4 &lt;dbl&gt; | PAY_AMT5 &lt;dbl&gt; | PAY_AMT6 &lt;dbl&gt; | DEFAULT &lt;fct&gt; |\n",
       "|---|---|---|---|---|---|---|---|---|---|---|---|---|---|---|---|---|---|---|---|---|\n",
       "| 340000 | 2 | 3 | 2 | 28 | 0  | 0  | 0  | 0  | 0  | ⋯ | 12519 | 15299 | 15905 | 3000 |  3000 | 5000 | 3000 | 1000 | 10000 | 0 |\n",
       "| 250000 | 2 | 2 | 1 | 29 | -1 | -1 | -1 | 0  | 0  | ⋯ | 32699 | 32949 | 34150 |    0 | 49140 | 1596 | 5000 | 2000 |  1800 | 1 |\n",
       "| 140000 | 2 | 2 | 2 | 27 | -1 | -1 | -1 | -1 | -1 | ⋯ |   390 |  6580 |     0 | 4000 |   390 |  390 | 6580 |    0 |   780 | 0 |\n",
       "| 150000 | 2 | 2 | 1 | 30 | -1 | -1 | 2  | -1 | -1 | ⋯ |   696 |   873 |  1392 | 1392 |     0 |  696 |  873 | 1392 |   696 | 1 |\n",
       "|  20000 | 1 | 1 | 2 | 27 | 1  | 2  | 3  | 2  | 3  | ⋯ |  7496 |  7231 |  7269 | 3000 |     0 |  800 |    0 |  300 |     0 | 1 |\n",
       "|  30000 | 1 | 1 | 2 | 32 | 0  | 0  | 2  | 0  | 0  | ⋯ | 28839 | 29375 | 32729 | 3600 |     0 | 1500 | 1300 | 4000 |     0 | 0 |\n",
       "\n"
      ],
      "text/plain": [
       "  LIMIT_BAL SEX EDUCATION MARRIAGE AGE PAY_0 PAY_2 PAY_3 PAY_4 PAY_5 ⋯\n",
       "1 340000    2   3         2        28  0     0     0     0     0     ⋯\n",
       "2 250000    2   2         1        29  -1    -1    -1    0     0     ⋯\n",
       "3 140000    2   2         2        27  -1    -1    -1    -1    -1    ⋯\n",
       "4 150000    2   2         1        30  -1    -1    2     -1    -1    ⋯\n",
       "5  20000    1   1         2        27  1     2     3     2     3     ⋯\n",
       "6  30000    1   1         2        32  0     0     2     0     0     ⋯\n",
       "  BILL_AMT4 BILL_AMT5 BILL_AMT6 PAY_AMT1 PAY_AMT2 PAY_AMT3 PAY_AMT4 PAY_AMT5\n",
       "1 12519     15299     15905     3000      3000    5000     3000     1000    \n",
       "2 32699     32949     34150        0     49140    1596     5000     2000    \n",
       "3   390      6580         0     4000       390     390     6580        0    \n",
       "4   696       873      1392     1392         0     696      873     1392    \n",
       "5  7496      7231      7269     3000         0     800        0      300    \n",
       "6 28839     29375     32729     3600         0    1500     1300     4000    \n",
       "  PAY_AMT6 DEFAULT\n",
       "1 10000    0      \n",
       "2  1800    1      \n",
       "3   780    0      \n",
       "4   696    1      \n",
       "5     0    1      \n",
       "6     0    0      "
      ]
     },
     "metadata": {},
     "output_type": "display_data"
    }
   ],
   "source": [
    "head(data_downsampled_test)"
   ]
  },
  {
   "cell_type": "markdown",
   "id": "44f046c0",
   "metadata": {},
   "source": [
    "Data transformation and Reduction"
   ]
  },
  {
   "cell_type": "code",
   "execution_count": 30,
   "id": "e5a3eeef",
   "metadata": {},
   "outputs": [],
   "source": [
    "#We need to scale the numerical variable \n",
    "normalize<- function(x) { return((x-min(x))/(max(x)-min(x)))}"
   ]
  },
  {
   "cell_type": "code",
   "execution_count": 31,
   "id": "b8939b66",
   "metadata": {},
   "outputs": [],
   "source": [
    "#Scaling the training data\n",
    "data_downsampled_train$LIMIT_BAL<-normalize(data_downsampled_train$LIMIT_BAL)\n",
    "data_downsampled_train$AGE<-normalize(data_downsampled_train$AGE)\n",
    "data_downsampled_train$BILL_AMT1<-normalize(data_downsampled_train$BILL_AMT1)\n",
    "data_downsampled_train$BILL_AMT2<-normalize(data_downsampled_train$BILL_AMT2)\n",
    "data_downsampled_train$BILL_AMT3<-normalize(data_downsampled_train$BILL_AMT3)\n",
    "data_downsampled_train$BILL_AMT4<-normalize(data_downsampled_train$BILL_AMT4)\n",
    "data_downsampled_train$BILL_AMT5<-normalize(data_downsampled_train$BILL_AMT5)\n",
    "data_downsampled_train$BILL_AMT6<-normalize(data_downsampled_train$BILL_AMT6)\n",
    "data_downsampled_train$PAY_AMT1<-normalize(data_downsampled_train$PAY_AMT1)\n",
    "data_downsampled_train$PAY_AMT2<-normalize(data_downsampled_train$PAY_AMT2)\n",
    "data_downsampled_train$PAY_AMT3<-normalize(data_downsampled_train$PAY_AMT3)\n",
    "data_downsampled_train$PAY_AMT4<-normalize(data_downsampled_train$PAY_AMT4)\n",
    "data_downsampled_train$PAY_AMT5<-normalize(data_downsampled_train$PAY_AMT5)\n",
    "data_downsampled_train$PAY_AMT6<-normalize(data_downsampled_train$PAY_AMT6)"
   ]
  },
  {
   "cell_type": "code",
   "execution_count": 32,
   "id": "af7454a9",
   "metadata": {},
   "outputs": [],
   "source": [
    "#Scaling the test data\n",
    "data_downsampled_test$LIMIT_BAL<-normalize(data_downsampled_test$LIMIT_BAL)\n",
    "data_downsampled_test$AGE<-normalize(data_downsampled_test$AGE)\n",
    "data_downsampled_test$BILL_AMT1<-normalize(data_downsampled_test$BILL_AMT1)\n",
    "data_downsampled_test$BILL_AMT2<-normalize(data_downsampled_test$BILL_AMT2)\n",
    "data_downsampled_test$BILL_AMT3<-normalize(data_downsampled_test$BILL_AMT3)\n",
    "data_downsampled_test$BILL_AMT4<-normalize(data_downsampled_test$BILL_AMT4)\n",
    "data_downsampled_test$BILL_AMT5<-normalize(data_downsampled_test$BILL_AMT5)\n",
    "data_downsampled_test$BILL_AMT6<-normalize(data_downsampled_test$BILL_AMT6)\n",
    "data_downsampled_test$PAY_AMT1<-normalize(data_downsampled_test$PAY_AMT1)\n",
    "data_downsampled_test$PAY_AMT2<-normalize(data_downsampled_test$PAY_AMT2)\n",
    "data_downsampled_test$PAY_AMT3<-normalize(data_downsampled_test$PAY_AMT3)\n",
    "data_downsampled_test$PAY_AMT4<-normalize(data_downsampled_test$PAY_AMT4)\n",
    "data_downsampled_test$PAY_AMT5<-normalize(data_downsampled_test$PAY_AMT5)\n",
    "data_downsampled_test$PAY_AMT6<-normalize(data_downsampled_test$PAY_AMT6)"
   ]
  },
  {
   "cell_type": "markdown",
   "id": "921f69cd",
   "metadata": {},
   "source": [
    "### Support Vector Machine"
   ]
  },
  {
   "cell_type": "code",
   "execution_count": 33,
   "id": "fa236bae",
   "metadata": {},
   "outputs": [
    {
     "name": "stderr",
     "output_type": "stream",
     "text": [
      "Warning message in any(scale):\n",
      "\"coercing argument of type 'character' to logical\"\n",
      "Warning message in any(scale):\n",
      "\"coercing argument of type 'character' to logical\"\n",
      "Warning message in any(object$scaled):\n",
      "\"coercing argument of type 'character' to logical\"\n"
     ]
    },
    {
     "data": {
      "text/plain": [
       "\n",
       "Call:\n",
       "svm(formula = DEFAULT ~ ., data = data_downsampled_train, kernel = \"radial\", \n",
       "    scale = \"FALSE\")\n",
       "\n",
       "\n",
       "Parameters:\n",
       "   SVM-Type:  C-classification \n",
       " SVM-Kernel:  radial \n",
       "       cost:  1 \n",
       "\n",
       "Number of Support Vectors:  4800\n",
       "\n",
       " ( 2390 2410 )\n",
       "\n",
       "\n",
       "Number of Classes:  2 \n",
       "\n",
       "Levels: \n",
       " 0 1\n",
       "\n",
       "\n"
      ]
     },
     "metadata": {},
     "output_type": "display_data"
    }
   ],
   "source": [
    "set.seed(1)\n",
    "library(e1071)\n",
    "model_svm<-svm(DEFAULT~., data=data_downsampled_train,kernel='radial',scale='FALSE')\n",
    "summary(model_svm)\n",
    "\n",
    "#4800 support vectors with 2390 in one class and 2410 in the other"
   ]
  },
  {
   "cell_type": "code",
   "execution_count": 34,
   "id": "0f2913dd",
   "metadata": {},
   "outputs": [
    {
     "name": "stderr",
     "output_type": "stream",
     "text": [
      "Warning message in any(object$scaled):\n",
      "\"coercing argument of type 'character' to logical\"\n"
     ]
    },
    {
     "data": {
      "text/plain": [
       "Confusion Matrix and Statistics\n",
       "\n",
       "          Reference\n",
       "Prediction    0    1\n",
       "         0 1291  688\n",
       "         1  209  812\n",
       "                                          \n",
       "               Accuracy : 0.701           \n",
       "                 95% CI : (0.6843, 0.7173)\n",
       "    No Information Rate : 0.5             \n",
       "    P-Value [Acc > NIR] : < 2.2e-16       \n",
       "                                          \n",
       "                  Kappa : 0.402           \n",
       "                                          \n",
       " Mcnemar's Test P-Value : < 2.2e-16       \n",
       "                                          \n",
       "            Sensitivity : 0.8607          \n",
       "            Specificity : 0.5413          \n",
       "         Pos Pred Value : 0.6523          \n",
       "         Neg Pred Value : 0.7953          \n",
       "             Prevalence : 0.5000          \n",
       "         Detection Rate : 0.4303          \n",
       "   Detection Prevalence : 0.6597          \n",
       "      Balanced Accuracy : 0.7010          \n",
       "                                          \n",
       "       'Positive' Class : 0               \n",
       "                                          "
      ]
     },
     "metadata": {},
     "output_type": "display_data"
    }
   ],
   "source": [
    "default_prediction_svm <- predict(model_svm,data_downsampled_test[,1:23])\n",
    "confusionMatrix(default_prediction_svm,data_downsampled_test$DEFAULT)\n",
    "#70.1% accuracy\n",
    "#sensitivity=0.8607"
   ]
  },
  {
   "cell_type": "code",
   "execution_count": 35,
   "id": "6e893160",
   "metadata": {},
   "outputs": [],
   "source": [
    "#Parameter Tuning, sampling method:10-fold cross validation\n",
    "#set.seed (1)\n",
    "#tune.out <- tune.svm(DEFAULT~., data=data_downsampled_train, kernel=\"radial\", gamma = c(0.001,0.01,0.1,1), cost=c(0.01, 0.1, 1, 5, 10, 100))\n",
    "\n",
    "#Best performance when gamma=0.1 and cost=1"
   ]
  },
  {
   "cell_type": "code",
   "execution_count": 36,
   "id": "abf65d32",
   "metadata": {},
   "outputs": [],
   "source": [
    "#summary(tune.out)"
   ]
  },
  {
   "cell_type": "code",
   "execution_count": 37,
   "id": "b5010e2f",
   "metadata": {},
   "outputs": [
    {
     "name": "stderr",
     "output_type": "stream",
     "text": [
      "Warning message in any(scale):\n",
      "\"coercing argument of type 'character' to logical\"\n",
      "Warning message in any(scale):\n",
      "\"coercing argument of type 'character' to logical\"\n",
      "Warning message in any(object$scaled):\n",
      "\"coercing argument of type 'character' to logical\"\n"
     ]
    },
    {
     "data": {
      "text/plain": [
       "\n",
       "Call:\n",
       "svm(formula = DEFAULT ~ ., data = data_downsampled_train, kernel = \"radial\", \n",
       "    gamma = 0.1, cost = 1, scale = \"FALSE\")\n",
       "\n",
       "\n",
       "Parameters:\n",
       "   SVM-Type:  C-classification \n",
       " SVM-Kernel:  radial \n",
       "       cost:  1 \n",
       "\n",
       "Number of Support Vectors:  4557\n",
       "\n",
       " ( 2291 2266 )\n",
       "\n",
       "\n",
       "Number of Classes:  2 \n",
       "\n",
       "Levels: \n",
       " 0 1\n",
       "\n",
       "\n"
      ]
     },
     "metadata": {},
     "output_type": "display_data"
    }
   ],
   "source": [
    "set.seed(1)\n",
    "model_svm_final<-svm(DEFAULT~., data=data_downsampled_train,kernel='radial',scale='FALSE', gamma=0.1,cost=1)\n",
    "summary(model_svm_final)\n",
    "\n",
    "#4557 support vectors, 2291 in one class and 2266 in the other"
   ]
  },
  {
   "cell_type": "code",
   "execution_count": 38,
   "id": "ca8002cc",
   "metadata": {},
   "outputs": [
    {
     "name": "stderr",
     "output_type": "stream",
     "text": [
      "Warning message in any(object$scaled):\n",
      "\"coercing argument of type 'character' to logical\"\n"
     ]
    },
    {
     "data": {
      "text/plain": [
       "Confusion Matrix and Statistics\n",
       "\n",
       "          Reference\n",
       "Prediction    0    1\n",
       "         0 1238  590\n",
       "         1  262  910\n",
       "                                          \n",
       "               Accuracy : 0.716           \n",
       "                 95% CI : (0.6995, 0.7321)\n",
       "    No Information Rate : 0.5             \n",
       "    P-Value [Acc > NIR] : < 2.2e-16       \n",
       "                                          \n",
       "                  Kappa : 0.432           \n",
       "                                          \n",
       " Mcnemar's Test P-Value : < 2.2e-16       \n",
       "                                          \n",
       "            Sensitivity : 0.8253          \n",
       "            Specificity : 0.6067          \n",
       "         Pos Pred Value : 0.6772          \n",
       "         Neg Pred Value : 0.7765          \n",
       "             Prevalence : 0.5000          \n",
       "         Detection Rate : 0.4127          \n",
       "   Detection Prevalence : 0.6093          \n",
       "      Balanced Accuracy : 0.7160          \n",
       "                                          \n",
       "       'Positive' Class : 0               \n",
       "                                          "
      ]
     },
     "metadata": {},
     "output_type": "display_data"
    }
   ],
   "source": [
    "default_prediction_svm_final <- predict(model_svm_final,data_downsampled_test[,1:23])\n",
    "confusionMatrix(default_prediction_svm_final,data_downsampled_test$DEFAULT)\n",
    "#Accuracy improved to 71.6% with parameter tuning, slight improvement\n",
    "#Sensitivity decreased to 0.8253 but specificity increased"
   ]
  },
  {
   "cell_type": "code",
   "execution_count": 39,
   "id": "400f30ea",
   "metadata": {},
   "outputs": [
    {
     "name": "stderr",
     "output_type": "stream",
     "text": [
      "Warning message in any(object$scaled):\n",
      "\"coercing argument of type 'character' to logical\"\n"
     ]
    },
    {
     "data": {
      "image/png": "[encoded data removed]",
      "text/plain": [
       "Plot with title \"ROC Curve (SVM)\""
      ]
     },
     "metadata": {
      "image/png": {
       "height": 420,
       "width": 420
      }
     },
     "output_type": "display_data"
    }
   ],
   "source": [
    "library(ROCR)\n",
    "default_prediction_svm2 <-as.numeric(predict(model_svm_final,data_downsampled_test[,-24],type='prob'))\n",
    "prediction_svm <- prediction(default_prediction_svm2, data_downsampled_test$DEFAULT)\n",
    "performance_svm <- performance(prediction_svm, 'tpr','fpr')\n",
    "plot(performance_svm, colorize = FALSE, text.adj = c(-0.2,1.7),main=\"ROC Curve (SVM)\")\n",
    "abline(a=0,b=1,lwd=2,lty=2,col=\"grey\")"
   ]
  },
  {
   "cell_type": "code",
   "execution_count": 40,
   "id": "f9590c45",
   "metadata": {},
   "outputs": [
    {
     "data": {
      "text/html": [
       "'AUC = 0.716'"
      ],
      "text/latex": [
       "'AUC = 0.716'"
      ],
      "text/markdown": [
       "'AUC = 0.716'"
      ],
      "text/plain": [
       "[1] \"AUC = 0.716\""
      ]
     },
     "metadata": {},
     "output_type": "display_data"
    }
   ],
   "source": [
    "aucvalue_svm <- performance(prediction_svm, measure = \"auc\")\n",
    "aucvalue_svm <- aucvalue_svm@y.values[[1]]\n",
    "paste('AUC =',aucvalue_svm)\n",
    "#AUC=0.716"
   ]
  },
  {
   "cell_type": "markdown",
   "id": "94e2721a",
   "metadata": {},
   "source": [
    "### Random Forest"
   ]
  },
  {
   "cell_type": "code",
   "execution_count": 41,
   "id": "d5880db1",
   "metadata": {},
   "outputs": [
    {
     "name": "stderr",
     "output_type": "stream",
     "text": [
      "randomForest 4.7-1.1\n",
      "\n",
      "Type rfNews() to see new features/changes/bug fixes.\n",
      "\n",
      "\n",
      "Attaching package: 'randomForest'\n",
      "\n",
      "\n",
      "The following object is masked from 'package:dplyr':\n",
      "\n",
      "    combine\n",
      "\n",
      "\n",
      "The following object is masked from 'package:ggplot2':\n",
      "\n",
      "    margin\n",
      "\n",
      "\n"
     ]
    },
    {
     "data": {
      "text/plain": [
       "\n",
       "Call:\n",
       " randomForest(formula = DEFAULT ~ ., data = data_downsampled_train) \n",
       "               Type of random forest: classification\n",
       "                     Number of trees: 500\n",
       "No. of variables tried at each split: 4\n",
       "\n",
       "        OOB estimate of  error rate: 29.66%\n",
       "Confusion matrix:\n",
       "     0    1 class.error\n",
       "0 2627  873   0.2494286\n",
       "1 1203 2297   0.3437143"
      ]
     },
     "metadata": {},
     "output_type": "display_data"
    }
   ],
   "source": [
    "library(randomForest)\n",
    "set.seed(1)\n",
    "model_rf<-randomForest(DEFAULT~.,data=data_downsampled_train)\n",
    "model_rf\n",
    "\n",
    "#(1-29.66) % of the OOB(out of bag) error estimates were correctly classified by the random forest\n",
    "#Number of decision trees generated=500(Default)\n",
    "#Number of variables tried at each split=4"
   ]
  },
  {
   "cell_type": "code",
   "execution_count": 42,
   "id": "bf922fb7",
   "metadata": {},
   "outputs": [
    {
     "data": {
      "text/plain": [
       "Confusion Matrix and Statistics\n",
       "\n",
       "          Reference\n",
       "Prediction    0    1\n",
       "         0 1258  649\n",
       "         1  242  851\n",
       "                                          \n",
       "               Accuracy : 0.703           \n",
       "                 95% CI : (0.6863, 0.7193)\n",
       "    No Information Rate : 0.5             \n",
       "    P-Value [Acc > NIR] : < 2.2e-16       \n",
       "                                          \n",
       "                  Kappa : 0.406           \n",
       "                                          \n",
       " Mcnemar's Test P-Value : < 2.2e-16       \n",
       "                                          \n",
       "            Sensitivity : 0.8387          \n",
       "            Specificity : 0.5673          \n",
       "         Pos Pred Value : 0.6597          \n",
       "         Neg Pred Value : 0.7786          \n",
       "             Prevalence : 0.5000          \n",
       "         Detection Rate : 0.4193          \n",
       "   Detection Prevalence : 0.6357          \n",
       "      Balanced Accuracy : 0.7030          \n",
       "                                          \n",
       "       'Positive' Class : 0               \n",
       "                                          "
      ]
     },
     "metadata": {},
     "output_type": "display_data"
    }
   ],
   "source": [
    "set.seed(1)\n",
    "default_prediction_rf <- predict(model_rf,data_downsampled_test[,1:23])\n",
    "confusionMatrix(default_prediction_rf,data_downsampled_test$DEFAULT)\n",
    "#70.3% accuracy on a validation set\n",
    "#Using unseen data although random forest uses bootstrapping\n",
    "#Sensitivity=0.8387"
   ]
  },
  {
   "cell_type": "code",
   "execution_count": 43,
   "id": "10b4a5e3",
   "metadata": {},
   "outputs": [],
   "source": [
    "set.seed(1)\n",
    "oob_error<-data.frame(Trees=rep(1:nrow(model_rf$err.rate),times=3),\n",
    "                    Type=rep(c(\"OOB\",'Default','No Default'), each=nrow(model_rf$err.rate)),\n",
    "                    Error=c(model_rf$err.rate[,'OOB'],\n",
    "                           model_rf$err.rate[,'0'],\n",
    "                           model_rf$err.rate[,\"1\"]))"
   ]
  },
  {
   "cell_type": "code",
   "execution_count": 44,
   "id": "5d8afc07",
   "metadata": {},
   "outputs": [
    {
     "data": {
      "image/png": "[encoded data removed]",
      "text/plain": [
       "plot without title"
      ]
     },
     "metadata": {
      "image/png": {
       "height": 420,
       "width": 420
      }
     },
     "output_type": "display_data"
    }
   ],
   "source": [
    "ggplot(data=oob_error,aes(x=Trees,y=Error))+geom_line(aes(color=Type))+theme_bw()\n",
    "#Error rates decrease with increase in number of trees and stabalize after 500 trees"
   ]
  },
  {
   "cell_type": "code",
   "execution_count": 45,
   "id": "f12d1630",
   "metadata": {},
   "outputs": [
    {
     "data": {
      "text/plain": [
       "\n",
       "Call:\n",
       " randomForest(formula = DEFAULT ~ ., data = data_downsampled_train,      ntree = 1000) \n",
       "               Type of random forest: classification\n",
       "                     Number of trees: 1000\n",
       "No. of variables tried at each split: 4\n",
       "\n",
       "        OOB estimate of  error rate: 29.87%\n",
       "Confusion matrix:\n",
       "     0    1 class.error\n",
       "0 2628  872   0.2491429\n",
       "1 1219 2281   0.3482857"
      ]
     },
     "metadata": {},
     "output_type": "display_data"
    }
   ],
   "source": [
    "#Building random forest with more trees\n",
    "model_rf2<-randomForest(DEFAULT~.,data=data_downsampled_train,ntree=1000)\n",
    "model_rf2\n",
    "\n",
    "#No significant increase\n",
    "#OOB error rate of 29.87\n",
    "#We can conclude that 500 trees are enough"
   ]
  },
  {
   "cell_type": "code",
   "execution_count": 46,
   "id": "a65afdcd",
   "metadata": {},
   "outputs": [],
   "source": [
    "#oob_split<-vector(length=10)\n",
    "#for(i in 1:10){model_rf_test<-randomForest(DEFAULT~.,data=data_downsampled_train,mtry=i,ntree=500)\n",
    "#               oob_split[i]<-model_rf_test$err.rate[nrow(model_rf_test$err.rate),1]}\n",
    "#oob_split\n",
    "\n",
    "#Optimal number of variables for split is 1 when we use 500 trees"
   ]
  },
  {
   "cell_type": "code",
   "execution_count": 47,
   "id": "d261ada4",
   "metadata": {},
   "outputs": [
    {
     "data": {
      "text/plain": [
       "\n",
       "Call:\n",
       " randomForest(formula = DEFAULT ~ ., data = data_downsampled_train,      mtry = 1, ntree = 500) \n",
       "               Type of random forest: classification\n",
       "                     Number of trees: 500\n",
       "No. of variables tried at each split: 1\n",
       "\n",
       "        OOB estimate of  error rate: 29.46%\n",
       "Confusion matrix:\n",
       "     0    1 class.error\n",
       "0 2659  841   0.2402857\n",
       "1 1221 2279   0.3488571"
      ]
     },
     "metadata": {},
     "output_type": "display_data"
    }
   ],
   "source": [
    "set.seed(1)\n",
    "model_rf_final<-randomForest(DEFAULT~.,data=data_downsampled_train, mtry=1, ntree=500)\n",
    "model_rf_final\n",
    "\n",
    "#OOB error rate = 29.46"
   ]
  },
  {
   "cell_type": "code",
   "execution_count": 48,
   "id": "722cd173",
   "metadata": {},
   "outputs": [
    {
     "data": {
      "text/plain": [
       "Confusion Matrix and Statistics\n",
       "\n",
       "          Reference\n",
       "Prediction    0    1\n",
       "         0 1238  596\n",
       "         1  262  904\n",
       "                                          \n",
       "               Accuracy : 0.714           \n",
       "                 95% CI : (0.6975, 0.7301)\n",
       "    No Information Rate : 0.5             \n",
       "    P-Value [Acc > NIR] : < 2.2e-16       \n",
       "                                          \n",
       "                  Kappa : 0.428           \n",
       "                                          \n",
       " Mcnemar's Test P-Value : < 2.2e-16       \n",
       "                                          \n",
       "            Sensitivity : 0.8253          \n",
       "            Specificity : 0.6027          \n",
       "         Pos Pred Value : 0.6750          \n",
       "         Neg Pred Value : 0.7753          \n",
       "             Prevalence : 0.5000          \n",
       "         Detection Rate : 0.4127          \n",
       "   Detection Prevalence : 0.6113          \n",
       "      Balanced Accuracy : 0.7140          \n",
       "                                          \n",
       "       'Positive' Class : 0               \n",
       "                                          "
      ]
     },
     "metadata": {},
     "output_type": "display_data"
    }
   ],
   "source": [
    "set.seed(1)\n",
    "default_prediction_rf <- predict(model_rf_final,data_downsampled_test[,1:23])\n",
    "confusionMatrix(default_prediction_rf,data_downsampled_test$DEFAULT)\n",
    "#Accuracy increased to 71.4\n",
    "#Sensitivity=0.8253"
   ]
  },
  {
   "cell_type": "code",
   "execution_count": 49,
   "id": "148f5cb0",
   "metadata": {},
   "outputs": [
    {
     "data": {
      "image/png": "[encoded data removed]",
      "text/plain": [
       "Plot with title \"ROC Curve (Random Forest)\""
      ]
     },
     "metadata": {
      "image/png": {
       "height": 420,
       "width": 420
      }
     },
     "output_type": "display_data"
    }
   ],
   "source": [
    "default_prediction_rf2 <- predict(model_rf_final,data_downsampled_test[,-24],type='vote') #type=vote number of random of forests who voted correctly\n",
    "prediction_rf <- prediction(default_prediction_rf2[,2], data_downsampled_test$DEFAULT)\n",
    "performance_rf <- performance(prediction_rf, 'tpr','fpr')\n",
    "plot(performance_rf, colorize = FALSE, text.adj = c(-0.2,1.7),main=\"ROC Curve (Random Forest)\")\n",
    "abline(a=0,b=1,lwd=2,lty=2,col=\"grey\")"
   ]
  },
  {
   "cell_type": "code",
   "execution_count": 50,
   "id": "fcce4656",
   "metadata": {},
   "outputs": [
    {
     "data": {
      "text/html": [
       "'AUC = 0.777048444444444'"
      ],
      "text/latex": [
       "'AUC = 0.777048444444444'"
      ],
      "text/markdown": [
       "'AUC = 0.777048444444444'"
      ],
      "text/plain": [
       "[1] \"AUC = 0.777048444444444\""
      ]
     },
     "metadata": {},
     "output_type": "display_data"
    }
   ],
   "source": [
    "aucvalue_rf <- performance(prediction_rf, measure = \"auc\")\n",
    "aucvalue_rf <- aucvalue_rf@y.values[[1]]\n",
    "paste('AUC =',aucvalue_rf)\n",
    "#AUC=0.777"
   ]
  },
  {
   "cell_type": "code",
   "execution_count": 51,
   "id": "c60dd9d8",
   "metadata": {},
   "outputs": [
    {
     "data": {
      "image/png": "[encoded data removed]",
      "text/plain": [
       "Plot with title \"ROC Curve (SVM vs Random Forest)\""
      ]
     },
     "metadata": {
      "image/png": {
       "height": 420,
       "width": 420
      }
     },
     "output_type": "display_data"
    }
   ],
   "source": [
    "plot(performance_rf, col=1, lwd=3,avg= \"threshold\", main=\"ROC Curve (SVM vs Random Forest)\")\n",
    "plot(performance_svm, col=2, lwd=3, add=TRUE)\n",
    "legend(0.7, 0.15, c(\"Random Forest\",\"SVM\"), 1:2)\n",
    "abline(a=0,b=1,lwd=2,lty=2,col=\"grey\")"
   ]
  }
 ],
 "metadata": {
  "kernelspec": {
   "display_name": "R 4.2.2",
   "language": "R",
   "name": "ir42"
  },
  "language_info": {
   "codemirror_mode": "r",
   "file_extension": ".r",
   "mimetype": "text/x-r-source",
   "name": "R",
   "pygments_lexer": "r",
   "version": "4.2.2"
  }
 },
 "nbformat": 4,
 "nbformat_minor": 5
}
